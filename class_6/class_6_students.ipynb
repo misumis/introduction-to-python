{
 "cells": [
  {
   "attachments": {},
   "cell_type": "markdown",
   "metadata": {},
   "source": [
    "# <div style=\"text-align: center\"> Introduction to Python\n",
    "\n",
    "## <div style=\"text-align: center\">Introduction to Python (VI) - Classes</div>"
   ]
  },
  {
   "attachments": {},
   "cell_type": "markdown",
   "metadata": {},
   "source": [
    "### Classes\n",
    "\n",
    "Classes are a fundamental part of object-oriented programming. They are templates that define the structure of an object. Classes are used to create objects, which are instances of the class.\n",
    "\n",
    "Classes are defined using the `class` keyword. The class name is usually written in CamelCase, with the first letter of each word capitalized. The class definition is followed by a colon and an indented block of statements that form the body of the class.\n",
    "\n",
    "```python\n",
    "class ClassName:\n",
    "    # class body\n",
    "    ...\n",
    "```"
   ]
  },
  {
   "cell_type": "code",
   "execution_count": 1,
   "metadata": {},
   "outputs": [],
   "source": [
    "class Animal():\n",
    "    def __init__(self, name):\n",
    "        self.name = name\n",
    "\n",
    "    def speak(self):\n",
    "        print(f'{self.name} makes a noise.')"
   ]
  },
  {
   "attachments": {},
   "cell_type": "markdown",
   "metadata": {},
   "source": [
    "### What is na __init__ method?\n",
    "\n",
    "The `__init__` method is a special method that is called when an instance of the class is created. It is also called a constructor or an initializer method. The `__init__` method is used to initialize the attributes of an object.\n",
    "\n",
    "```python\n",
    "class ClassName:\n",
    "    def __init__(self, arg1, arg2, ...):\n",
    "        # body of the constructor\n",
    "        ...\n",
    "```"
   ]
  },
  {
   "cell_type": "code",
   "execution_count": 5,
   "metadata": {},
   "outputs": [],
   "source": [
    "cat = Animal('cat')"
   ]
  },
  {
   "cell_type": "code",
   "execution_count": 6,
   "metadata": {},
   "outputs": [
    {
     "data": {
      "text/plain": [
       "'cat'"
      ]
     },
     "execution_count": 6,
     "metadata": {},
     "output_type": "execute_result"
    }
   ],
   "source": [
    "cat.name"
   ]
  },
  {
   "cell_type": "code",
   "execution_count": 7,
   "metadata": {},
   "outputs": [
    {
     "name": "stdout",
     "output_type": "stream",
     "text": [
      "cat makes a noise.\n"
     ]
    }
   ],
   "source": [
    "cat.speak()"
   ]
  },
  {
   "attachments": {},
   "cell_type": "markdown",
   "metadata": {},
   "source": [
    "The class body can contain any number of statements. Usually, it contains methods, which are functions that are defined inside a class. However, the class body can also contain statements that define properties of the class."
   ]
  },
  {
   "attachments": {},
   "cell_type": "markdown",
   "metadata": {},
   "source": [
    "### Inheritance\n",
    "\n",
    "Inheritance allows us to define a class that inherits all the methods and properties from another class. The class that inherits the methods is called a child class, and the class that is being inherited from is called a parent class."
   ]
  },
  {
   "cell_type": "code",
   "execution_count": 16,
   "metadata": {},
   "outputs": [],
   "source": [
    "class Cat(Animal):\n",
    "    def speak(self):\n",
    "        print(f'{self.name} meows.')\n",
    "        \n",
    "    def purr(self):\n",
    "        print(f'{self.name} purrs.')"
   ]
  },
  {
   "cell_type": "code",
   "execution_count": 17,
   "metadata": {},
   "outputs": [],
   "source": [
    "bazyl = Cat('Bazyl')"
   ]
  },
  {
   "cell_type": "code",
   "execution_count": 18,
   "metadata": {},
   "outputs": [
    {
     "ename": "AttributeError",
     "evalue": "'Animal' object has no attribute 'purr'",
     "output_type": "error",
     "traceback": [
      "\u001b[0;31m---------------------------------------------------------------------------\u001b[0m",
      "\u001b[0;31mAttributeError\u001b[0m                            Traceback (most recent call last)",
      "Cell \u001b[0;32mIn[18], line 1\u001b[0m\n\u001b[0;32m----> 1\u001b[0m cat\u001b[39m.\u001b[39;49mpurr()\n",
      "\u001b[0;31mAttributeError\u001b[0m: 'Animal' object has no attribute 'purr'"
     ]
    }
   ],
   "source": [
    "cat.purr()"
   ]
  },
  {
   "cell_type": "code",
   "execution_count": 19,
   "metadata": {},
   "outputs": [
    {
     "name": "stdout",
     "output_type": "stream",
     "text": [
      "Bazyl purrs.\n"
     ]
    }
   ],
   "source": [
    "bazyl.purr()"
   ]
  },
  {
   "cell_type": "code",
   "execution_count": 20,
   "metadata": {},
   "outputs": [
    {
     "name": "stdout",
     "output_type": "stream",
     "text": [
      "Bazyl meows.\n"
     ]
    }
   ],
   "source": [
    "bazyl.speak()"
   ]
  },
  {
   "attachments": {},
   "cell_type": "markdown",
   "metadata": {},
   "source": [
    "### Inheritance Syntax and adding properties\n"
   ]
  },
  {
   "cell_type": "code",
   "execution_count": 28,
   "metadata": {},
   "outputs": [],
   "source": [
    "class Dog(Animal):\n",
    "  is_mammal = True\n",
    "  \n",
    "  def __init__(self, name, breed):\n",
    "      super().__init__(name)\n",
    "      self.breed = breed\n",
    "\n",
    "  def speak(self):\n",
    "      print(f'{self.name} barks.')\n",
    "      \n",
    "  def wag_tail(self):\n",
    "      print(f'{self.name} wags tail.')\n",
    "      "
   ]
  },
  {
   "cell_type": "code",
   "execution_count": 29,
   "metadata": {},
   "outputs": [],
   "source": [
    "reksio = Dog('Reksio', 'Terrier')"
   ]
  },
  {
   "cell_type": "code",
   "execution_count": 30,
   "metadata": {},
   "outputs": [
    {
     "data": {
      "text/plain": [
       "True"
      ]
     },
     "execution_count": 30,
     "metadata": {},
     "output_type": "execute_result"
    }
   ],
   "source": [
    "reksio.is_mammal"
   ]
  },
  {
   "cell_type": "code",
   "execution_count": 31,
   "metadata": {},
   "outputs": [
    {
     "name": "stdout",
     "output_type": "stream",
     "text": [
      "Reksio wags tail.\n"
     ]
    }
   ],
   "source": [
    "reksio.wag_tail()"
   ]
  },
  {
   "attachments": {},
   "cell_type": "markdown",
   "metadata": {},
   "source": [
    "#### <span style=\"color:red\">**TASK**</span>\n",
    "\n",
    "Create a class called `Person` with the following attributes:\n",
    "- `name`\n",
    "- `age`\n",
    "- `gender`\n",
    "\n",
    "Create a class called `Student` that inherits from `Person` and has the following attributes:\n",
    "- `student_id`\n",
    "- `grades` (list)\n",
    "- `average_grade` (property)\n",
    "- `add_grade` (method)\n",
    "- `get_average_grade` (method)\n",
    "- `get_grades` (method)\n",
    "  "
   ]
  },
  {
   "cell_type": "code",
   "execution_count": 26,
   "metadata": {},
   "outputs": [],
   "source": [
    "# Code goes here"
   ]
  },
  {
   "attachments": {},
   "cell_type": "markdown",
   "metadata": {},
   "source": [
    "### __str__ method\n",
    "\n",
    "The `__str__` method is a special method that is called when the `str()` function is used on an object. It is also called a \"to-string\" method. The `__str__` method must return a string.\n"
   ]
  },
  {
   "cell_type": "code",
   "execution_count": 25,
   "metadata": {},
   "outputs": [
    {
     "name": "stdout",
     "output_type": "stream",
     "text": [
      "Data Scientist (45000$)\n"
     ]
    }
   ],
   "source": [
    "class JobPosition():\n",
    "  def __init__(self, name, salary):\n",
    "    self.name = name\n",
    "    self.salary = salary\n",
    "    \n",
    "  def __str__(self):\n",
    "    return f\"{self.name} ({self.salary}$)\"\n",
    "  \n",
    "\n",
    "ds_position = JobPosition(\"Data Scientist\", 45000)\n",
    "\n",
    "print(ds_position)"
   ]
  },
  {
   "attachments": {},
   "cell_type": "markdown",
   "metadata": {},
   "source": [
    "### Private and Public Attributes\n",
    "\n",
    "In Python, all attributes and methods are public by default. This means that they can be accessed from outside the class. However, we can make an attribute or method private by prefixing its name with two underscores (`__`)."
   ]
  },
  {
   "cell_type": "code",
   "execution_count": 45,
   "metadata": {},
   "outputs": [],
   "source": [
    "class Employee():\n",
    "  __salary_raise = 1.04\n",
    "  \n",
    "  def __init__(self, name, position, salary):\n",
    "    self.name = name\n",
    "    self.position = position\n",
    "    self.salary = salary\n",
    "  \n",
    "  def raise_salary(self):\n",
    "    self.salary *= self.__salary_raise\n",
    "    \n",
    "  def get_salary(self):\n",
    "    return self.salary\n",
    "  \n",
    "  def set_salary(self, new_salary):\n",
    "    self.salary = new_salary\n",
    "    \n",
    "  def predict_salary(self, years):\n",
    "    return round(self.salary * (self.__salary_raise ** years), 2)\n",
    "  \n",
    "\n",
    "\n",
    "  "
   ]
  },
  {
   "cell_type": "code",
   "execution_count": 46,
   "metadata": {},
   "outputs": [],
   "source": [
    "devin_emp = Employee(\"Devin\", \"Data Scientist\", 45000)"
   ]
  },
  {
   "cell_type": "code",
   "execution_count": 47,
   "metadata": {},
   "outputs": [
    {
     "data": {
      "text/plain": [
       "'Data Scientist'"
      ]
     },
     "execution_count": 47,
     "metadata": {},
     "output_type": "execute_result"
    }
   ],
   "source": [
    "devin_emp.position"
   ]
  },
  {
   "cell_type": "code",
   "execution_count": 48,
   "metadata": {},
   "outputs": [
    {
     "data": {
      "text/plain": [
       "45000"
      ]
     },
     "execution_count": 48,
     "metadata": {},
     "output_type": "execute_result"
    }
   ],
   "source": [
    "devin_emp.salary"
   ]
  },
  {
   "cell_type": "code",
   "execution_count": 49,
   "metadata": {},
   "outputs": [
    {
     "data": {
      "text/plain": [
       "50618.88"
      ]
     },
     "execution_count": 49,
     "metadata": {},
     "output_type": "execute_result"
    }
   ],
   "source": [
    "devin_emp.predict_salary(3)"
   ]
  },
  {
   "cell_type": "code",
   "execution_count": 50,
   "metadata": {},
   "outputs": [
    {
     "ename": "AttributeError",
     "evalue": "'Employee' object has no attribute '__salary_raise'",
     "output_type": "error",
     "traceback": [
      "\u001b[0;31m---------------------------------------------------------------------------\u001b[0m",
      "\u001b[0;31mAttributeError\u001b[0m                            Traceback (most recent call last)",
      "Cell \u001b[0;32mIn[50], line 1\u001b[0m\n\u001b[0;32m----> 1\u001b[0m devin_emp\u001b[39m.\u001b[39;49m__salary_raise\n",
      "\u001b[0;31mAttributeError\u001b[0m: 'Employee' object has no attribute '__salary_raise'"
     ]
    }
   ],
   "source": [
    "devin_emp.__salary_raise"
   ]
  },
  {
   "attachments": {},
   "cell_type": "markdown",
   "metadata": {},
   "source": [
    "Let's say that devin worked for a year now. He needs a raise. Let's give him a year to year raise."
   ]
  },
  {
   "cell_type": "code",
   "execution_count": 51,
   "metadata": {},
   "outputs": [],
   "source": [
    "devin_emp.raise_salary()"
   ]
  },
  {
   "cell_type": "code",
   "execution_count": 52,
   "metadata": {},
   "outputs": [
    {
     "data": {
      "text/plain": [
       "46800.0"
      ]
     },
     "execution_count": 52,
     "metadata": {},
     "output_type": "execute_result"
    }
   ],
   "source": [
    "devin_emp.salary"
   ]
  },
  {
   "attachments": {},
   "cell_type": "markdown",
   "metadata": {},
   "source": [
    "Devin was extraordinaire this year. He deserves a raise and a new title. Let's give him a raise and a new title."
   ]
  },
  {
   "cell_type": "code",
   "execution_count": 53,
   "metadata": {},
   "outputs": [],
   "source": [
    "devin_emp.set_salary(50000)\n",
    "devin_emp.position = \"Senior Data Scientist\""
   ]
  },
  {
   "cell_type": "code",
   "execution_count": 55,
   "metadata": {},
   "outputs": [
    {
     "data": {
      "text/plain": [
       "50000"
      ]
     },
     "execution_count": 55,
     "metadata": {},
     "output_type": "execute_result"
    }
   ],
   "source": [
    "devin_emp.get_salary()"
   ]
  },
  {
   "cell_type": "code",
   "execution_count": 56,
   "metadata": {},
   "outputs": [
    {
     "data": {
      "text/plain": [
       "'Senior Data Scientist'"
      ]
     },
     "execution_count": 56,
     "metadata": {},
     "output_type": "execute_result"
    }
   ],
   "source": [
    "devin_emp.position"
   ]
  },
  {
   "cell_type": "code",
   "execution_count": 57,
   "metadata": {},
   "outputs": [
    {
     "data": {
      "text/plain": [
       "60832.65"
      ]
     },
     "execution_count": 57,
     "metadata": {},
     "output_type": "execute_result"
    }
   ],
   "source": [
    "devin_emp.predict_salary(5)"
   ]
  },
  {
   "attachments": {},
   "cell_type": "markdown",
   "metadata": {},
   "source": [
    "#### <span style=\"color:red\">**TASK**</span>\n",
    "\n",
    "A more difficult task. Create a class called `Stock` that has recieves the name of the ticker, starting date and ending date. Based on this information, the class should download the data from Yahoo Finance and store it in a dataframe. The class should have the following methods:\n",
    "\n",
    "- `get_data` (method returns dataframe with OHLC prices and dates)\n",
    "- `get_returns` (method returns dataframe with returns of the close price)\n",
    "- `get_log_returns` (method returns dataframe with log returns of the close price)\n",
    "\n",
    "Get the stock market information for the following tickers:\n",
    "- `AAPL`\n",
    "- `MSFT`\n",
    "- `AMZN`\n",
    "- `GOOG`\n",
    "\n",
    "The starting date should be `2020-01-01` and the ending date should be `2023-01-01`."
   ]
  },
  {
   "cell_type": "code",
   "execution_count": null,
   "metadata": {},
   "outputs": [],
   "source": [
    "# Code goes here"
   ]
  }
 ],
 "metadata": {
  "kernelspec": {
   "display_name": "Python 3",
   "language": "python",
   "name": "python3"
  },
  "language_info": {
   "codemirror_mode": {
    "name": "ipython",
    "version": 3
   },
   "file_extension": ".py",
   "mimetype": "text/x-python",
   "name": "python",
   "nbconvert_exporter": "python",
   "pygments_lexer": "ipython3",
   "version": "3.11.2"
  },
  "orig_nbformat": 4
 },
 "nbformat": 4,
 "nbformat_minor": 2
}
