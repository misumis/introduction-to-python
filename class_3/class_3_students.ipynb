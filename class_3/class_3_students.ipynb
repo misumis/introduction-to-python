{
 "cells": [
  {
   "attachments": {},
   "cell_type": "markdown",
   "metadata": {},
   "source": [
    "# <div style=\"text-align: center\"> Introduction to Python\n",
    "\n",
    "## <div style=\"text-align: center\">Introduction to Python (III)"
   ]
  },
  {
   "cell_type": "code",
   "execution_count": null,
   "metadata": {},
   "outputs": [],
   "source": [
    "pip install -r requirements.txt"
   ]
  },
  {
   "attachments": {},
   "cell_type": "markdown",
   "metadata": {},
   "source": [
    "# Data Visualization\n",
    "\n",
    "## Matplotlib\n",
    "\n",
    "Matplotlib is a popular Python library used for creating high-quality visualizations such as line plots, scatter plots, bar charts, histograms, and many more. It provides an easy-to-use interface for creating customizable plots and graphs that can be embedded into Python scripts, web applications, and interactive notebooks. Matplotlib is built on NumPy arrays and is compatible with other popular Python libraries such as Pandas, Seaborn, and SciPy. It is widely used in scientific computing, data analysis, and machine learning applications to help users gain insights from complex data."
   ]
  },
  {
   "attachments": {},
   "cell_type": "markdown",
   "metadata": {},
   "source": [
    "## Seaborn\n",
    "\n",
    "Seaborn is a Python data visualization library that is built on top of Matplotlib. It provides a high-level interface for creating informative and attractive statistical graphics. Seaborn simplifies the creation of complex visualizations by offering several built-in themes, color palettes, and statistical functions. \n",
    "\n",
    "With Seaborn, you can create a wide range of visualizations including scatterplots, line plots, bar plots, histograms, heatmaps, and more. Seaborn is often used in conjunction with Pandas, a popular data manipulation library, and is widely used in data analysis, machine learning, and scientific research."
   ]
  },
  {
   "attachments": {},
   "cell_type": "markdown",
   "metadata": {},
   "source": [
    "## Titanic\n",
    "We will use the `titanic` dataset, which statistically (and mercilessly) describes the sad fate of passengers of a well-known passenger ship. This dataset is available in many places, but we will use the copy provided with the `seaborn` package. We need to load this package first:"
   ]
  },
  {
   "cell_type": "code",
   "execution_count": 2,
   "metadata": {},
   "outputs": [
    {
     "name": "stdout",
     "output_type": "stream",
     "text": [
      "seaborn version:\n",
      " 0.12.2\n"
     ]
    }
   ],
   "source": [
    "import seaborn as sns\n",
    "import ssl \n",
    "import matplotlib.pyplot as plt\n",
    "\n",
    "# https://stackoverflow.com/questions/57483667/ssl-certificate-verify-failed-error-when-loading-data-into-seaborn\n",
    "ssl._create_default_https_context = ssl._create_unverified_context\n",
    "\n",
    "print(\"seaborn version:\\n\", sns.__version__)"
   ]
  },
  {
   "cell_type": "code",
   "execution_count": 6,
   "metadata": {},
   "outputs": [
    {
     "data": {
      "text/plain": [
       "['anagrams',\n",
       " 'anscombe',\n",
       " 'attention',\n",
       " 'brain_networks',\n",
       " 'car_crashes',\n",
       " 'diamonds',\n",
       " 'dots',\n",
       " 'dowjones',\n",
       " 'exercise',\n",
       " 'flights',\n",
       " 'fmri',\n",
       " 'geyser',\n",
       " 'glue',\n",
       " 'healthexp',\n",
       " 'iris',\n",
       " 'mpg',\n",
       " 'penguins',\n",
       " 'planets',\n",
       " 'seaice',\n",
       " 'taxis',\n",
       " 'tips',\n",
       " 'titanic']"
      ]
     },
     "execution_count": 6,
     "metadata": {},
     "output_type": "execute_result"
    }
   ],
   "source": [
    "dataset_names = sns.get_dataset_names()\n",
    "\n",
    "dataset_names"
   ]
  },
  {
   "cell_type": "code",
   "execution_count": 3,
   "metadata": {},
   "outputs": [],
   "source": [
    "# we see that there are some datasets available - we are loading dataset titanic:\n",
    "titanic = sns.load_dataset('titanic')"
   ]
  },
  {
   "cell_type": "code",
   "execution_count": 4,
   "metadata": {},
   "outputs": [
    {
     "data": {
      "text/html": [
       "<div>\n",
       "<style scoped>\n",
       "    .dataframe tbody tr th:only-of-type {\n",
       "        vertical-align: middle;\n",
       "    }\n",
       "\n",
       "    .dataframe tbody tr th {\n",
       "        vertical-align: top;\n",
       "    }\n",
       "\n",
       "    .dataframe thead th {\n",
       "        text-align: right;\n",
       "    }\n",
       "</style>\n",
       "<table border=\"1\" class=\"dataframe\">\n",
       "  <thead>\n",
       "    <tr style=\"text-align: right;\">\n",
       "      <th></th>\n",
       "      <th>survived</th>\n",
       "      <th>pclass</th>\n",
       "      <th>sex</th>\n",
       "      <th>age</th>\n",
       "      <th>sibsp</th>\n",
       "      <th>parch</th>\n",
       "      <th>fare</th>\n",
       "      <th>embarked</th>\n",
       "      <th>class</th>\n",
       "      <th>who</th>\n",
       "      <th>adult_male</th>\n",
       "      <th>deck</th>\n",
       "      <th>embark_town</th>\n",
       "      <th>alive</th>\n",
       "      <th>alone</th>\n",
       "    </tr>\n",
       "  </thead>\n",
       "  <tbody>\n",
       "    <tr>\n",
       "      <th>0</th>\n",
       "      <td>0</td>\n",
       "      <td>3</td>\n",
       "      <td>male</td>\n",
       "      <td>22.0</td>\n",
       "      <td>1</td>\n",
       "      <td>0</td>\n",
       "      <td>7.2500</td>\n",
       "      <td>S</td>\n",
       "      <td>Third</td>\n",
       "      <td>man</td>\n",
       "      <td>True</td>\n",
       "      <td>NaN</td>\n",
       "      <td>Southampton</td>\n",
       "      <td>no</td>\n",
       "      <td>False</td>\n",
       "    </tr>\n",
       "    <tr>\n",
       "      <th>1</th>\n",
       "      <td>1</td>\n",
       "      <td>1</td>\n",
       "      <td>female</td>\n",
       "      <td>38.0</td>\n",
       "      <td>1</td>\n",
       "      <td>0</td>\n",
       "      <td>71.2833</td>\n",
       "      <td>C</td>\n",
       "      <td>First</td>\n",
       "      <td>woman</td>\n",
       "      <td>False</td>\n",
       "      <td>C</td>\n",
       "      <td>Cherbourg</td>\n",
       "      <td>yes</td>\n",
       "      <td>False</td>\n",
       "    </tr>\n",
       "    <tr>\n",
       "      <th>2</th>\n",
       "      <td>1</td>\n",
       "      <td>3</td>\n",
       "      <td>female</td>\n",
       "      <td>26.0</td>\n",
       "      <td>0</td>\n",
       "      <td>0</td>\n",
       "      <td>7.9250</td>\n",
       "      <td>S</td>\n",
       "      <td>Third</td>\n",
       "      <td>woman</td>\n",
       "      <td>False</td>\n",
       "      <td>NaN</td>\n",
       "      <td>Southampton</td>\n",
       "      <td>yes</td>\n",
       "      <td>True</td>\n",
       "    </tr>\n",
       "    <tr>\n",
       "      <th>3</th>\n",
       "      <td>1</td>\n",
       "      <td>1</td>\n",
       "      <td>female</td>\n",
       "      <td>35.0</td>\n",
       "      <td>1</td>\n",
       "      <td>0</td>\n",
       "      <td>53.1000</td>\n",
       "      <td>S</td>\n",
       "      <td>First</td>\n",
       "      <td>woman</td>\n",
       "      <td>False</td>\n",
       "      <td>C</td>\n",
       "      <td>Southampton</td>\n",
       "      <td>yes</td>\n",
       "      <td>False</td>\n",
       "    </tr>\n",
       "    <tr>\n",
       "      <th>4</th>\n",
       "      <td>0</td>\n",
       "      <td>3</td>\n",
       "      <td>male</td>\n",
       "      <td>35.0</td>\n",
       "      <td>0</td>\n",
       "      <td>0</td>\n",
       "      <td>8.0500</td>\n",
       "      <td>S</td>\n",
       "      <td>Third</td>\n",
       "      <td>man</td>\n",
       "      <td>True</td>\n",
       "      <td>NaN</td>\n",
       "      <td>Southampton</td>\n",
       "      <td>no</td>\n",
       "      <td>True</td>\n",
       "    </tr>\n",
       "  </tbody>\n",
       "</table>\n",
       "</div>"
      ],
      "text/plain": [
       "   survived  pclass     sex   age  sibsp  parch     fare embarked  class  \\\n",
       "0         0       3    male  22.0      1      0   7.2500        S  Third   \n",
       "1         1       1  female  38.0      1      0  71.2833        C  First   \n",
       "2         1       3  female  26.0      0      0   7.9250        S  Third   \n",
       "3         1       1  female  35.0      1      0  53.1000        S  First   \n",
       "4         0       3    male  35.0      0      0   8.0500        S  Third   \n",
       "\n",
       "     who  adult_male deck  embark_town alive  alone  \n",
       "0    man        True  NaN  Southampton    no  False  \n",
       "1  woman       False    C    Cherbourg   yes  False  \n",
       "2  woman       False  NaN  Southampton   yes   True  \n",
       "3  woman       False    C  Southampton   yes  False  \n",
       "4    man        True  NaN  Southampton    no   True  "
      ]
     },
     "execution_count": 4,
     "metadata": {},
     "output_type": "execute_result"
    }
   ],
   "source": [
    "titanic.head()"
   ]
  },
  {
   "cell_type": "code",
   "execution_count": 15,
   "metadata": {},
   "outputs": [
    {
     "data": {
      "text/plain": [
       "Index(['survived', 'pclass', 'sex', 'age', 'sibsp', 'parch', 'fare',\n",
       "       'embarked', 'class', 'who', 'adult_male', 'deck', 'embark_town',\n",
       "       'alive', 'alone'],\n",
       "      dtype='object')"
      ]
     },
     "execution_count": 15,
     "metadata": {},
     "output_type": "execute_result"
    }
   ],
   "source": [
    "titanic.columns"
   ]
  },
  {
   "cell_type": "code",
   "execution_count": 16,
   "metadata": {},
   "outputs": [
    {
     "data": {
      "text/plain": [
       "array(['man', 'woman', 'child'], dtype=object)"
      ]
     },
     "execution_count": 16,
     "metadata": {},
     "output_type": "execute_result"
    }
   ],
   "source": [
    "titanic['who'].unique()"
   ]
  },
  {
   "cell_type": "code",
   "execution_count": 17,
   "metadata": {},
   "outputs": [
    {
     "data": {
      "text/plain": [
       "array(['man', 'woman', 'child'], dtype=object)"
      ]
     },
     "execution_count": 17,
     "metadata": {},
     "output_type": "execute_result"
    }
   ],
   "source": [
    "titanic.who.unique()"
   ]
  },
  {
   "cell_type": "code",
   "execution_count": 19,
   "metadata": {},
   "outputs": [
    {
     "data": {
      "text/plain": [
       "(891, 15)"
      ]
     },
     "execution_count": 19,
     "metadata": {},
     "output_type": "execute_result"
    }
   ],
   "source": [
    "titanic.shape"
   ]
  },
  {
   "attachments": {},
   "cell_type": "markdown",
   "metadata": {},
   "source": [
    "Dataframe also lets you extract basic information from the data it contains. For example, we'll draw a boxplot showing the passenger age (`age`) broken down into ticket classes (`class`):"
   ]
  },
  {
   "cell_type": "code",
   "execution_count": 21,
   "metadata": {},
   "outputs": [
    {
     "data": {
      "text/plain": [
       "<Axes: title={'center': 'age'}, xlabel='class'>"
      ]
     },
     "execution_count": 21,
     "metadata": {},
     "output_type": "execute_result"
    },
    {
     "data": {
      "image/png": "[encoded data removed]",
      "text/plain": [
       "<Figure size 640x480 with 1 Axes>"
      ]
     },
     "metadata": {},
     "output_type": "display_data"
    }
   ],
   "source": [
    "titanic.boxplot('age', by='class')"
   ]
  },
  {
   "attachments": {},
   "cell_type": "markdown",
   "metadata": {},
   "source": [
    "Now show the passenger age (`sex`) broken down into ticket classes (`class`):"
   ]
  },
  {
   "cell_type": "code",
   "execution_count": null,
   "metadata": {},
   "outputs": [],
   "source": [
    "titanic.boxplot('age', by='sex')"
   ]
  },
  {
   "attachments": {},
   "cell_type": "markdown",
   "metadata": {},
   "source": [
    "#### <span style=\"color:red\">**TASK**</span>\n",
    "\n",
    "Please write a code that would present a distribution of age - sorted (from the lowest to the highest) - of people in this database. In order to do that, you need to use the `.sort_values()` and `value_counts()` methods. Use the `.plot()` method to plot the graph :)"
   ]
  },
  {
   "cell_type": "code",
   "execution_count": 23,
   "metadata": {},
   "outputs": [
    {
     "data": {
      "text/plain": [
       "Text(0, 0.5, 'The number of people in this age')"
      ]
     },
     "execution_count": 23,
     "metadata": {},
     "output_type": "execute_result"
    },
    {
     "data": {
      "image/png": "[encoded data removed]",
      "text/plain": [
       "<Figure size 640x480 with 1 Axes>"
      ]
     },
     "metadata": {},
     "output_type": "display_data"
    }
   ],
   "source": [
    "# Code goes here\n",
    "\n",
    "plt.xlabel('Age')\n",
    "plt.ylabel('The number of people in this age')"
   ]
  },
  {
   "cell_type": "code",
   "execution_count": 30,
   "metadata": {},
   "outputs": [
    {
     "data": {
      "text/plain": [
       "<Axes: xlabel='class', ylabel='age'>"
      ]
     },
     "execution_count": 30,
     "metadata": {},
     "output_type": "execute_result"
    },
    {
     "data": {
      "image/png": "[encoded data removed]",
      "text/plain": [
       "<Figure size 640x480 with 1 Axes>"
      ]
     },
     "metadata": {},
     "output_type": "display_data"
    }
   ],
   "source": []
  },
  {
   "cell_type": "code",
   "execution_count": 34,
   "metadata": {},
   "outputs": [
    {
     "name": "stderr",
     "output_type": "stream",
     "text": [
      "/var/folders/1z/4fz51c7j2gv66f21g_58zrq80000gn/T/ipykernel_43668/3635634896.py:1: UserWarning: \n",
      "\n",
      "`distplot` is a deprecated function and will be removed in seaborn v0.14.0.\n",
      "\n",
      "Please adapt your code to use either `displot` (a figure-level function with\n",
      "similar flexibility) or `histplot` (an axes-level function for histograms).\n",
      "\n",
      "For a guide to updating your code to use the new functions, please see\n",
      "https://gist.github.com/mwaskom/de44147ed2974457ad6372750bbe5751\n",
      "\n",
      "  sns.distplot(titanic.fare)\n"
     ]
    },
    {
     "data": {
      "text/plain": [
       "<Axes: xlabel='fare', ylabel='Density'>"
      ]
     },
     "execution_count": 34,
     "metadata": {},
     "output_type": "execute_result"
    },
    {
     "data": {
      "image/png": "[encoded data removed]",
      "text/plain": [
       "<Figure size 640x480 with 1 Axes>"
      ]
     },
     "metadata": {},
     "output_type": "display_data"
    }
   ],
   "source": [
    "sns.distplot(titanic.fare)"
   ]
  },
  {
   "attachments": {},
   "cell_type": "markdown",
   "metadata": {},
   "source": [
    "Before proceeding further, think about the following:\n",
    "* Do you understand what the boxplot chart shows? What is the line in the middle of the box, which part of the data is represented by the box and which represented the \"whiskers\"?\n",
    "* What do we learn from the above charts?\n",
    "* Do we see any relationship between the age and class in which the person travelled?"
   ]
  },
  {
   "cell_type": "code",
   "execution_count": 36,
   "metadata": {},
   "outputs": [
    {
     "data": {
      "text/plain": [
       "<Axes: xlabel='class', ylabel='age'>"
      ]
     },
     "execution_count": 36,
     "metadata": {},
     "output_type": "execute_result"
    },
    {
     "data": {
      "image/png": "[encoded data removed]",
      "text/plain": [
       "<Figure size 640x480 with 1 Axes>"
      ]
     },
     "metadata": {},
     "output_type": "display_data"
    }
   ],
   "source": [
    "sns.set_style('darkgrid')\n",
    "sns.set_palette('deep')\n",
    "sns.boxplot(x='class', y='age', data=titanic)"
   ]
  },
  {
   "attachments": {},
   "cell_type": "markdown",
   "metadata": {},
   "source": [
    "Reset the styles to the default ones:"
   ]
  },
  {
   "cell_type": "code",
   "execution_count": 39,
   "metadata": {},
   "outputs": [],
   "source": [
    "sns.set(style=\"ticks\")"
   ]
  },
  {
   "attachments": {},
   "cell_type": "markdown",
   "metadata": {},
   "source": [
    "Set palette to `Paired`:"
   ]
  },
  {
   "cell_type": "code",
   "execution_count": 45,
   "metadata": {},
   "outputs": [
    {
     "data": {
      "text/plain": [
       "<Axes: xlabel='class', ylabel='age'>"
      ]
     },
     "execution_count": 45,
     "metadata": {},
     "output_type": "execute_result"
    },
    {
     "data": {
      "image/png": "[encoded data removed]",
      "text/plain": [
       "<Figure size 640x480 with 1 Axes>"
      ]
     },
     "metadata": {},
     "output_type": "display_data"
    }
   ],
   "source": [
    "sns.set_palette(sns.color_palette(\"Paired\"))\n",
    "sns.boxplot(x='class', y='age', data=titanic)"
   ]
  },
  {
   "attachments": {},
   "cell_type": "markdown",
   "metadata": {},
   "source": [
    "## Quick recap how to access data in a dataframe\n",
    "\n",
    "Using the `.loc[]` method, we can select columns and rows of interest to us:"
   ]
  },
  {
   "cell_type": "code",
   "execution_count": 46,
   "metadata": {},
   "outputs": [
    {
     "data": {
      "text/html": [
       "<div>\n",
       "<style scoped>\n",
       "    .dataframe tbody tr th:only-of-type {\n",
       "        vertical-align: middle;\n",
       "    }\n",
       "\n",
       "    .dataframe tbody tr th {\n",
       "        vertical-align: top;\n",
       "    }\n",
       "\n",
       "    .dataframe thead th {\n",
       "        text-align: right;\n",
       "    }\n",
       "</style>\n",
       "<table border=\"1\" class=\"dataframe\">\n",
       "  <thead>\n",
       "    <tr style=\"text-align: right;\">\n",
       "      <th></th>\n",
       "      <th>sex</th>\n",
       "      <th>age</th>\n",
       "      <th>sibsp</th>\n",
       "      <th>parch</th>\n",
       "      <th>fare</th>\n",
       "      <th>embarked</th>\n",
       "      <th>class</th>\n",
       "    </tr>\n",
       "  </thead>\n",
       "  <tbody>\n",
       "    <tr>\n",
       "      <th>0</th>\n",
       "      <td>male</td>\n",
       "      <td>22.0</td>\n",
       "      <td>1</td>\n",
       "      <td>0</td>\n",
       "      <td>7.2500</td>\n",
       "      <td>S</td>\n",
       "      <td>Third</td>\n",
       "    </tr>\n",
       "    <tr>\n",
       "      <th>1</th>\n",
       "      <td>female</td>\n",
       "      <td>38.0</td>\n",
       "      <td>1</td>\n",
       "      <td>0</td>\n",
       "      <td>71.2833</td>\n",
       "      <td>C</td>\n",
       "      <td>First</td>\n",
       "    </tr>\n",
       "    <tr>\n",
       "      <th>2</th>\n",
       "      <td>female</td>\n",
       "      <td>26.0</td>\n",
       "      <td>0</td>\n",
       "      <td>0</td>\n",
       "      <td>7.9250</td>\n",
       "      <td>S</td>\n",
       "      <td>Third</td>\n",
       "    </tr>\n",
       "    <tr>\n",
       "      <th>3</th>\n",
       "      <td>female</td>\n",
       "      <td>35.0</td>\n",
       "      <td>1</td>\n",
       "      <td>0</td>\n",
       "      <td>53.1000</td>\n",
       "      <td>S</td>\n",
       "      <td>First</td>\n",
       "    </tr>\n",
       "    <tr>\n",
       "      <th>4</th>\n",
       "      <td>male</td>\n",
       "      <td>35.0</td>\n",
       "      <td>0</td>\n",
       "      <td>0</td>\n",
       "      <td>8.0500</td>\n",
       "      <td>S</td>\n",
       "      <td>Third</td>\n",
       "    </tr>\n",
       "    <tr>\n",
       "      <th>5</th>\n",
       "      <td>male</td>\n",
       "      <td>NaN</td>\n",
       "      <td>0</td>\n",
       "      <td>0</td>\n",
       "      <td>8.4583</td>\n",
       "      <td>Q</td>\n",
       "      <td>Third</td>\n",
       "    </tr>\n",
       "    <tr>\n",
       "      <th>6</th>\n",
       "      <td>male</td>\n",
       "      <td>54.0</td>\n",
       "      <td>0</td>\n",
       "      <td>0</td>\n",
       "      <td>51.8625</td>\n",
       "      <td>S</td>\n",
       "      <td>First</td>\n",
       "    </tr>\n",
       "  </tbody>\n",
       "</table>\n",
       "</div>"
      ],
      "text/plain": [
       "      sex   age  sibsp  parch     fare embarked  class\n",
       "0    male  22.0      1      0   7.2500        S  Third\n",
       "1  female  38.0      1      0  71.2833        C  First\n",
       "2  female  26.0      0      0   7.9250        S  Third\n",
       "3  female  35.0      1      0  53.1000        S  First\n",
       "4    male  35.0      0      0   8.0500        S  Third\n",
       "5    male   NaN      0      0   8.4583        Q  Third\n",
       "6    male  54.0      0      0  51.8625        S  First"
      ]
     },
     "execution_count": 46,
     "metadata": {},
     "output_type": "execute_result"
    }
   ],
   "source": [
    "titanic.loc[:6, 'sex':'class']"
   ]
  },
  {
   "attachments": {},
   "cell_type": "markdown",
   "metadata": {},
   "source": [
    "#### <span style=\"color:red\">**TASK**</span>\n",
    "\n",
    "Below, in a similar way, select rows 10 to 18 from the dataframe and columns from `'fare'` to `'deck'`:\n"
   ]
  },
  {
   "cell_type": "code",
   "execution_count": 47,
   "metadata": {},
   "outputs": [],
   "source": [
    "# Code goes here"
   ]
  },
  {
   "cell_type": "code",
   "execution_count": 48,
   "metadata": {},
   "outputs": [
    {
     "data": {
      "text/html": [
       "<div>\n",
       "<style scoped>\n",
       "    .dataframe tbody tr th:only-of-type {\n",
       "        vertical-align: middle;\n",
       "    }\n",
       "\n",
       "    .dataframe tbody tr th {\n",
       "        vertical-align: top;\n",
       "    }\n",
       "\n",
       "    .dataframe thead th {\n",
       "        text-align: right;\n",
       "    }\n",
       "</style>\n",
       "<table border=\"1\" class=\"dataframe\">\n",
       "  <thead>\n",
       "    <tr style=\"text-align: right;\">\n",
       "      <th></th>\n",
       "      <th>survived</th>\n",
       "      <th>pclass</th>\n",
       "      <th>sex</th>\n",
       "      <th>age</th>\n",
       "      <th>sibsp</th>\n",
       "      <th>parch</th>\n",
       "      <th>fare</th>\n",
       "      <th>embarked</th>\n",
       "      <th>class</th>\n",
       "      <th>who</th>\n",
       "      <th>adult_male</th>\n",
       "      <th>deck</th>\n",
       "      <th>embark_town</th>\n",
       "      <th>alive</th>\n",
       "      <th>alone</th>\n",
       "    </tr>\n",
       "  </thead>\n",
       "  <tbody>\n",
       "    <tr>\n",
       "      <th>111</th>\n",
       "      <td>0</td>\n",
       "      <td>3</td>\n",
       "      <td>female</td>\n",
       "      <td>14.5</td>\n",
       "      <td>1</td>\n",
       "      <td>0</td>\n",
       "      <td>14.4542</td>\n",
       "      <td>C</td>\n",
       "      <td>Third</td>\n",
       "      <td>child</td>\n",
       "      <td>False</td>\n",
       "      <td>NaN</td>\n",
       "      <td>Cherbourg</td>\n",
       "      <td>no</td>\n",
       "      <td>False</td>\n",
       "    </tr>\n",
       "    <tr>\n",
       "      <th>112</th>\n",
       "      <td>0</td>\n",
       "      <td>3</td>\n",
       "      <td>male</td>\n",
       "      <td>22.0</td>\n",
       "      <td>0</td>\n",
       "      <td>0</td>\n",
       "      <td>8.0500</td>\n",
       "      <td>S</td>\n",
       "      <td>Third</td>\n",
       "      <td>man</td>\n",
       "      <td>True</td>\n",
       "      <td>NaN</td>\n",
       "      <td>Southampton</td>\n",
       "      <td>no</td>\n",
       "      <td>True</td>\n",
       "    </tr>\n",
       "    <tr>\n",
       "      <th>113</th>\n",
       "      <td>0</td>\n",
       "      <td>3</td>\n",
       "      <td>female</td>\n",
       "      <td>20.0</td>\n",
       "      <td>1</td>\n",
       "      <td>0</td>\n",
       "      <td>9.8250</td>\n",
       "      <td>S</td>\n",
       "      <td>Third</td>\n",
       "      <td>woman</td>\n",
       "      <td>False</td>\n",
       "      <td>NaN</td>\n",
       "      <td>Southampton</td>\n",
       "      <td>no</td>\n",
       "      <td>False</td>\n",
       "    </tr>\n",
       "  </tbody>\n",
       "</table>\n",
       "</div>"
      ],
      "text/plain": [
       "     survived  pclass     sex   age  sibsp  parch     fare embarked  class  \\\n",
       "111         0       3  female  14.5      1      0  14.4542        C  Third   \n",
       "112         0       3    male  22.0      0      0   8.0500        S  Third   \n",
       "113         0       3  female  20.0      1      0   9.8250        S  Third   \n",
       "\n",
       "       who  adult_male deck  embark_town alive  alone  \n",
       "111  child       False  NaN    Cherbourg    no  False  \n",
       "112    man        True  NaN  Southampton    no   True  \n",
       "113  woman       False  NaN  Southampton    no  False  "
      ]
     },
     "execution_count": 48,
     "metadata": {},
     "output_type": "execute_result"
    }
   ],
   "source": [
    "titanic.loc[111:113, :]"
   ]
  },
  {
   "cell_type": "code",
   "execution_count": 49,
   "metadata": {},
   "outputs": [
    {
     "data": {
      "text/html": [
       "<div>\n",
       "<style scoped>\n",
       "    .dataframe tbody tr th:only-of-type {\n",
       "        vertical-align: middle;\n",
       "    }\n",
       "\n",
       "    .dataframe tbody tr th {\n",
       "        vertical-align: top;\n",
       "    }\n",
       "\n",
       "    .dataframe thead th {\n",
       "        text-align: right;\n",
       "    }\n",
       "</style>\n",
       "<table border=\"1\" class=\"dataframe\">\n",
       "  <thead>\n",
       "    <tr style=\"text-align: right;\">\n",
       "      <th></th>\n",
       "      <th>who</th>\n",
       "      <th>adult_male</th>\n",
       "      <th>deck</th>\n",
       "      <th>embark_town</th>\n",
       "      <th>alive</th>\n",
       "      <th>alone</th>\n",
       "    </tr>\n",
       "  </thead>\n",
       "  <tbody>\n",
       "    <tr>\n",
       "      <th>111</th>\n",
       "      <td>child</td>\n",
       "      <td>False</td>\n",
       "      <td>NaN</td>\n",
       "      <td>Cherbourg</td>\n",
       "      <td>no</td>\n",
       "      <td>False</td>\n",
       "    </tr>\n",
       "    <tr>\n",
       "      <th>112</th>\n",
       "      <td>man</td>\n",
       "      <td>True</td>\n",
       "      <td>NaN</td>\n",
       "      <td>Southampton</td>\n",
       "      <td>no</td>\n",
       "      <td>True</td>\n",
       "    </tr>\n",
       "    <tr>\n",
       "      <th>113</th>\n",
       "      <td>woman</td>\n",
       "      <td>False</td>\n",
       "      <td>NaN</td>\n",
       "      <td>Southampton</td>\n",
       "      <td>no</td>\n",
       "      <td>False</td>\n",
       "    </tr>\n",
       "  </tbody>\n",
       "</table>\n",
       "</div>"
      ],
      "text/plain": [
       "       who  adult_male deck  embark_town alive  alone\n",
       "111  child       False  NaN    Cherbourg    no  False\n",
       "112    man        True  NaN  Southampton    no   True\n",
       "113  woman       False  NaN  Southampton    no  False"
      ]
     },
     "execution_count": 49,
     "metadata": {},
     "output_type": "execute_result"
    }
   ],
   "source": [
    "titanic.loc[111:113, 'who':]"
   ]
  },
  {
   "cell_type": "code",
   "execution_count": 50,
   "metadata": {},
   "outputs": [
    {
     "data": {
      "text/plain": [
       "22.0"
      ]
     },
     "execution_count": 50,
     "metadata": {},
     "output_type": "execute_result"
    }
   ],
   "source": [
    "titanic.age[0]"
   ]
  },
  {
   "attachments": {},
   "cell_type": "markdown",
   "metadata": {},
   "source": [
    "#### <span style=\"color:red\">**TASK**</span>\n",
    "\n",
    "Using titanic dataset display the average survival rate.\n",
    "\n",
    "**Answer:** _0.383838_"
   ]
  },
  {
   "cell_type": "code",
   "execution_count": 65,
   "metadata": {},
   "outputs": [],
   "source": [
    "# Code goes here"
   ]
  },
  {
   "attachments": {},
   "cell_type": "markdown",
   "metadata": {},
   "source": []
  },
  {
   "attachments": {},
   "cell_type": "markdown",
   "metadata": {},
   "source": [
    "#### <span style=\"color:red\">**TASK**</span>\n",
    "\n",
    "Before we do in-depth analysis, let's check if there are any missing values in the dataset. Use the `.isnull()` method to check if there are any missing values in the dataset. If there are any, use the `.sum()` method to count them.\n"
   ]
  },
  {
   "cell_type": "code",
   "execution_count": 67,
   "metadata": {},
   "outputs": [
    {
     "data": {
      "text/plain": [
       "survived         0\n",
       "pclass           0\n",
       "sex              0\n",
       "age            177\n",
       "sibsp            0\n",
       "parch            0\n",
       "fare             0\n",
       "embarked         2\n",
       "class            0\n",
       "who              0\n",
       "adult_male       0\n",
       "deck           688\n",
       "embark_town      2\n",
       "alive            0\n",
       "alone            0\n",
       "dtype: int64"
      ]
     },
     "execution_count": 67,
     "metadata": {},
     "output_type": "execute_result"
    }
   ],
   "source": [
    "# Code goes here"
   ]
  },
  {
   "attachments": {},
   "cell_type": "markdown",
   "metadata": {},
   "source": [
    "We are missing 177 values in the `age` column and 688 values in the `deck` column. We will deal with missing values in the next section."
   ]
  },
  {
   "attachments": {},
   "cell_type": "markdown",
   "metadata": {},
   "source": [
    "#### <span style=\"color:red\">**TASK**</span>\n",
    "\n",
    "Let's first find a few more things about the dataset and practice pandas methods:\n",
    "1. What was the average age of passengers?\n",
    "2. What was the average age of passengers who survived?\n",
    "3. What was the average age of passengers who did not survive?\n",
    "4. Check using the `unique()` method to learn unique (non-duplicate) values on `who` column.\n",
    "5. Draw the histogram of the `fare` column.\n",
    "6. Draw the histogram of the `fare` column using the `bins` parameter as in previous task but add the `bins` parameter with value 20.\n",
    "7. The percentage of passangers above 30 years old.\n",
    "   "
   ]
  },
  {
   "cell_type": "code",
   "execution_count": 73,
   "metadata": {},
   "outputs": [],
   "source": [
    "# Code goes here"
   ]
  },
  {
   "attachments": {},
   "cell_type": "markdown",
   "metadata": {},
   "source": [
    "We are interested in how many people survived depending on the class, but first let's see how many passengers traveled in each class. We will use the `countplot` function of the` seaborn` package for this:"
   ]
  },
  {
   "cell_type": "code",
   "execution_count": 10,
   "metadata": {},
   "outputs": [
    {
     "data": {
      "text/plain": [
       "<Axes: xlabel='class', ylabel='count'>"
      ]
     },
     "execution_count": 10,
     "metadata": {},
     "output_type": "execute_result"
    },
    {
     "data": {
      "image/png": "[encoded data removed]",
      "text/plain": [
       "<Figure size 640x480 with 1 Axes>"
      ]
     },
     "metadata": {},
     "output_type": "display_data"
    }
   ],
   "source": [
    "sns.countplot(x='class', data=titanic)"
   ]
  },
  {
   "attachments": {},
   "cell_type": "markdown",
   "metadata": {},
   "source": [
    "We see that most people traveled in third class. Now let's see how many people survived (the `survived` column) in each class (the` class` column). We will use the same function as above, but this time the first argument will be the name of the column describing survival. In addition, we will use the argument `hue` and give it the name of the column broken down into which we want to see on the chart (we want to see the survival broken down into classes). As a result, on one side of the chart we will have survivors, and on the other those who died, and each of these categories will be divided into colored bars representing the class."
   ]
  },
  {
   "cell_type": "code",
   "execution_count": 78,
   "metadata": {},
   "outputs": [
    {
     "data": {
      "text/plain": [
       "<Axes: xlabel='survived', ylabel='count'>"
      ]
     },
     "execution_count": 78,
     "metadata": {},
     "output_type": "execute_result"
    },
    {
     "data": {
      "image/png": "[encoded data removed]",
      "text/plain": [
       "<Figure size 640x480 with 1 Axes>"
      ]
     },
     "metadata": {},
     "output_type": "display_data"
    }
   ],
   "source": [
    "sns.countplot(x='survived', hue='class', data=titanic)"
   ]
  },
  {
   "cell_type": "code",
   "execution_count": 79,
   "metadata": {},
   "outputs": [
    {
     "data": {
      "text/plain": [
       "<Axes: xlabel='class', ylabel='count'>"
      ]
     },
     "execution_count": 79,
     "metadata": {},
     "output_type": "execute_result"
    },
    {
     "data": {
      "image/png": "[encoded data removed]",
      "text/plain": [
       "<Figure size 640x480 with 1 Axes>"
      ]
     },
     "metadata": {},
     "output_type": "display_data"
    }
   ],
   "source": [
    "sns.countplot(x='class', hue='survived', data=titanic)"
   ]
  },
  {
   "attachments": {},
   "cell_type": "markdown",
   "metadata": {},
   "source": [
    "#### <span style=\"color:red\">**TASK**</span>\n",
    "\n",
    "Create a new column called `alive` that contains the values `yes` or `no` depending on whether the passenger survived or not. Use the `.map()` method to do that."
   ]
  },
  {
   "cell_type": "code",
   "execution_count": 85,
   "metadata": {},
   "outputs": [],
   "source": []
  },
  {
   "attachments": {},
   "cell_type": "markdown",
   "metadata": {},
   "source": [
    "## Weed Price Dataset\n",
    "### Read the input datasets. There are three datasets:\n",
    "\n",
    "1. Weed price by date / state (We would be using Marijuana prices in various states of the USA, along with demographic data of the USA based on the latest census data)\n",
    "2. Demographics of State"
   ]
  },
  {
   "cell_type": "code",
   "execution_count": 9,
   "metadata": {},
   "outputs": [],
   "source": [
    "import pandas as pd"
   ]
  },
  {
   "cell_type": "code",
   "execution_count": 10,
   "metadata": {},
   "outputs": [],
   "source": [
    "prices_df = pd.read_csv(r\"data/weed_price.csv\", parse_dates=[-1])\n",
    "demography_df = pd.read_csv(r\"data/demographics_state.csv\")"
   ]
  },
  {
   "cell_type": "code",
   "execution_count": 11,
   "metadata": {},
   "outputs": [
    {
     "data": {
      "text/html": [
       "<div>\n",
       "<style scoped>\n",
       "    .dataframe tbody tr th:only-of-type {\n",
       "        vertical-align: middle;\n",
       "    }\n",
       "\n",
       "    .dataframe tbody tr th {\n",
       "        vertical-align: top;\n",
       "    }\n",
       "\n",
       "    .dataframe thead th {\n",
       "        text-align: right;\n",
       "    }\n",
       "</style>\n",
       "<table border=\"1\" class=\"dataframe\">\n",
       "  <thead>\n",
       "    <tr style=\"text-align: right;\">\n",
       "      <th></th>\n",
       "      <th>State</th>\n",
       "      <th>HighQ</th>\n",
       "      <th>HighQN</th>\n",
       "      <th>MedQ</th>\n",
       "      <th>MedQN</th>\n",
       "      <th>LowQ</th>\n",
       "      <th>LowQN</th>\n",
       "      <th>date</th>\n",
       "    </tr>\n",
       "  </thead>\n",
       "  <tbody>\n",
       "    <tr>\n",
       "      <th>0</th>\n",
       "      <td>Alabama</td>\n",
       "      <td>339.06</td>\n",
       "      <td>1042</td>\n",
       "      <td>198.64</td>\n",
       "      <td>933</td>\n",
       "      <td>149.49</td>\n",
       "      <td>123</td>\n",
       "      <td>2014-01-01</td>\n",
       "    </tr>\n",
       "    <tr>\n",
       "      <th>1</th>\n",
       "      <td>Alaska</td>\n",
       "      <td>288.75</td>\n",
       "      <td>252</td>\n",
       "      <td>260.60</td>\n",
       "      <td>297</td>\n",
       "      <td>388.58</td>\n",
       "      <td>26</td>\n",
       "      <td>2014-01-01</td>\n",
       "    </tr>\n",
       "    <tr>\n",
       "      <th>2</th>\n",
       "      <td>Arizona</td>\n",
       "      <td>303.31</td>\n",
       "      <td>1941</td>\n",
       "      <td>209.35</td>\n",
       "      <td>1625</td>\n",
       "      <td>189.45</td>\n",
       "      <td>222</td>\n",
       "      <td>2014-01-01</td>\n",
       "    </tr>\n",
       "    <tr>\n",
       "      <th>3</th>\n",
       "      <td>Arkansas</td>\n",
       "      <td>361.85</td>\n",
       "      <td>576</td>\n",
       "      <td>185.62</td>\n",
       "      <td>544</td>\n",
       "      <td>125.87</td>\n",
       "      <td>112</td>\n",
       "      <td>2014-01-01</td>\n",
       "    </tr>\n",
       "    <tr>\n",
       "      <th>4</th>\n",
       "      <td>California</td>\n",
       "      <td>248.78</td>\n",
       "      <td>12096</td>\n",
       "      <td>193.56</td>\n",
       "      <td>12812</td>\n",
       "      <td>192.92</td>\n",
       "      <td>778</td>\n",
       "      <td>2014-01-01</td>\n",
       "    </tr>\n",
       "    <tr>\n",
       "      <th>...</th>\n",
       "      <td>...</td>\n",
       "      <td>...</td>\n",
       "      <td>...</td>\n",
       "      <td>...</td>\n",
       "      <td>...</td>\n",
       "      <td>...</td>\n",
       "      <td>...</td>\n",
       "      <td>...</td>\n",
       "    </tr>\n",
       "    <tr>\n",
       "      <th>22894</th>\n",
       "      <td>Virginia</td>\n",
       "      <td>364.98</td>\n",
       "      <td>3513</td>\n",
       "      <td>293.12</td>\n",
       "      <td>3079</td>\n",
       "      <td>NaN</td>\n",
       "      <td>284</td>\n",
       "      <td>2014-12-31</td>\n",
       "    </tr>\n",
       "    <tr>\n",
       "      <th>22895</th>\n",
       "      <td>Washington</td>\n",
       "      <td>233.05</td>\n",
       "      <td>3337</td>\n",
       "      <td>189.92</td>\n",
       "      <td>3562</td>\n",
       "      <td>NaN</td>\n",
       "      <td>160</td>\n",
       "      <td>2014-12-31</td>\n",
       "    </tr>\n",
       "    <tr>\n",
       "      <th>22896</th>\n",
       "      <td>West Virginia</td>\n",
       "      <td>359.35</td>\n",
       "      <td>551</td>\n",
       "      <td>224.03</td>\n",
       "      <td>545</td>\n",
       "      <td>NaN</td>\n",
       "      <td>60</td>\n",
       "      <td>2014-12-31</td>\n",
       "    </tr>\n",
       "    <tr>\n",
       "      <th>22897</th>\n",
       "      <td>Wisconsin</td>\n",
       "      <td>350.52</td>\n",
       "      <td>2244</td>\n",
       "      <td>272.71</td>\n",
       "      <td>2221</td>\n",
       "      <td>NaN</td>\n",
       "      <td>167</td>\n",
       "      <td>2014-12-31</td>\n",
       "    </tr>\n",
       "    <tr>\n",
       "      <th>22898</th>\n",
       "      <td>Wyoming</td>\n",
       "      <td>322.27</td>\n",
       "      <td>131</td>\n",
       "      <td>351.86</td>\n",
       "      <td>197</td>\n",
       "      <td>NaN</td>\n",
       "      <td>12</td>\n",
       "      <td>2014-12-31</td>\n",
       "    </tr>\n",
       "  </tbody>\n",
       "</table>\n",
       "<p>22899 rows × 8 columns</p>\n",
       "</div>"
      ],
      "text/plain": [
       "               State   HighQ  HighQN    MedQ  MedQN    LowQ  LowQN       date\n",
       "0            Alabama  339.06    1042  198.64    933  149.49    123 2014-01-01\n",
       "1             Alaska  288.75     252  260.60    297  388.58     26 2014-01-01\n",
       "2            Arizona  303.31    1941  209.35   1625  189.45    222 2014-01-01\n",
       "3           Arkansas  361.85     576  185.62    544  125.87    112 2014-01-01\n",
       "4         California  248.78   12096  193.56  12812  192.92    778 2014-01-01\n",
       "...              ...     ...     ...     ...    ...     ...    ...        ...\n",
       "22894       Virginia  364.98    3513  293.12   3079     NaN    284 2014-12-31\n",
       "22895     Washington  233.05    3337  189.92   3562     NaN    160 2014-12-31\n",
       "22896  West Virginia  359.35     551  224.03    545     NaN     60 2014-12-31\n",
       "22897      Wisconsin  350.52    2244  272.71   2221     NaN    167 2014-12-31\n",
       "22898        Wyoming  322.27     131  351.86    197     NaN     12 2014-12-31\n",
       "\n",
       "[22899 rows x 8 columns]"
      ]
     },
     "execution_count": 11,
     "metadata": {},
     "output_type": "execute_result"
    }
   ],
   "source": [
    "prices_df"
   ]
  },
  {
   "cell_type": "code",
   "execution_count": 12,
   "metadata": {},
   "outputs": [
    {
     "data": {
      "text/html": [
       "<div>\n",
       "<style scoped>\n",
       "    .dataframe tbody tr th:only-of-type {\n",
       "        vertical-align: middle;\n",
       "    }\n",
       "\n",
       "    .dataframe tbody tr th {\n",
       "        vertical-align: top;\n",
       "    }\n",
       "\n",
       "    .dataframe thead th {\n",
       "        text-align: right;\n",
       "    }\n",
       "</style>\n",
       "<table border=\"1\" class=\"dataframe\">\n",
       "  <thead>\n",
       "    <tr style=\"text-align: right;\">\n",
       "      <th></th>\n",
       "      <th>region</th>\n",
       "      <th>total_population</th>\n",
       "      <th>percent_white</th>\n",
       "      <th>percent_black</th>\n",
       "      <th>percent_asian</th>\n",
       "      <th>percent_hispanic</th>\n",
       "      <th>per_capita_income</th>\n",
       "      <th>median_rent</th>\n",
       "      <th>median_age</th>\n",
       "    </tr>\n",
       "  </thead>\n",
       "  <tbody>\n",
       "    <tr>\n",
       "      <th>0</th>\n",
       "      <td>alabama</td>\n",
       "      <td>4799277</td>\n",
       "      <td>67</td>\n",
       "      <td>26</td>\n",
       "      <td>1</td>\n",
       "      <td>4</td>\n",
       "      <td>23680</td>\n",
       "      <td>501</td>\n",
       "      <td>38.1</td>\n",
       "    </tr>\n",
       "    <tr>\n",
       "      <th>1</th>\n",
       "      <td>alaska</td>\n",
       "      <td>720316</td>\n",
       "      <td>63</td>\n",
       "      <td>3</td>\n",
       "      <td>5</td>\n",
       "      <td>6</td>\n",
       "      <td>32651</td>\n",
       "      <td>978</td>\n",
       "      <td>33.6</td>\n",
       "    </tr>\n",
       "    <tr>\n",
       "      <th>2</th>\n",
       "      <td>arizona</td>\n",
       "      <td>6479703</td>\n",
       "      <td>57</td>\n",
       "      <td>4</td>\n",
       "      <td>3</td>\n",
       "      <td>30</td>\n",
       "      <td>25358</td>\n",
       "      <td>747</td>\n",
       "      <td>36.3</td>\n",
       "    </tr>\n",
       "    <tr>\n",
       "      <th>3</th>\n",
       "      <td>arkansas</td>\n",
       "      <td>2933369</td>\n",
       "      <td>74</td>\n",
       "      <td>15</td>\n",
       "      <td>1</td>\n",
       "      <td>7</td>\n",
       "      <td>22170</td>\n",
       "      <td>480</td>\n",
       "      <td>37.5</td>\n",
       "    </tr>\n",
       "    <tr>\n",
       "      <th>4</th>\n",
       "      <td>california</td>\n",
       "      <td>37659181</td>\n",
       "      <td>40</td>\n",
       "      <td>6</td>\n",
       "      <td>13</td>\n",
       "      <td>38</td>\n",
       "      <td>29527</td>\n",
       "      <td>1119</td>\n",
       "      <td>35.4</td>\n",
       "    </tr>\n",
       "    <tr>\n",
       "      <th>5</th>\n",
       "      <td>colorado</td>\n",
       "      <td>5119329</td>\n",
       "      <td>70</td>\n",
       "      <td>4</td>\n",
       "      <td>3</td>\n",
       "      <td>21</td>\n",
       "      <td>31109</td>\n",
       "      <td>825</td>\n",
       "      <td>36.1</td>\n",
       "    </tr>\n",
       "    <tr>\n",
       "      <th>6</th>\n",
       "      <td>connecticut</td>\n",
       "      <td>3583561</td>\n",
       "      <td>70</td>\n",
       "      <td>9</td>\n",
       "      <td>4</td>\n",
       "      <td>14</td>\n",
       "      <td>37892</td>\n",
       "      <td>880</td>\n",
       "      <td>40.2</td>\n",
       "    </tr>\n",
       "    <tr>\n",
       "      <th>7</th>\n",
       "      <td>delaware</td>\n",
       "      <td>908446</td>\n",
       "      <td>65</td>\n",
       "      <td>21</td>\n",
       "      <td>3</td>\n",
       "      <td>8</td>\n",
       "      <td>29819</td>\n",
       "      <td>828</td>\n",
       "      <td>38.9</td>\n",
       "    </tr>\n",
       "    <tr>\n",
       "      <th>8</th>\n",
       "      <td>district of columbia</td>\n",
       "      <td>619371</td>\n",
       "      <td>35</td>\n",
       "      <td>49</td>\n",
       "      <td>3</td>\n",
       "      <td>10</td>\n",
       "      <td>45290</td>\n",
       "      <td>1154</td>\n",
       "      <td>33.8</td>\n",
       "    </tr>\n",
       "    <tr>\n",
       "      <th>9</th>\n",
       "      <td>florida</td>\n",
       "      <td>19091156</td>\n",
       "      <td>57</td>\n",
       "      <td>15</td>\n",
       "      <td>2</td>\n",
       "      <td>23</td>\n",
       "      <td>26236</td>\n",
       "      <td>838</td>\n",
       "      <td>41.0</td>\n",
       "    </tr>\n",
       "    <tr>\n",
       "      <th>10</th>\n",
       "      <td>georgia</td>\n",
       "      <td>9810417</td>\n",
       "      <td>55</td>\n",
       "      <td>30</td>\n",
       "      <td>3</td>\n",
       "      <td>9</td>\n",
       "      <td>25182</td>\n",
       "      <td>673</td>\n",
       "      <td>35.6</td>\n",
       "    </tr>\n",
       "    <tr>\n",
       "      <th>11</th>\n",
       "      <td>hawaii</td>\n",
       "      <td>1376298</td>\n",
       "      <td>23</td>\n",
       "      <td>2</td>\n",
       "      <td>37</td>\n",
       "      <td>9</td>\n",
       "      <td>29305</td>\n",
       "      <td>1220</td>\n",
       "      <td>38.3</td>\n",
       "    </tr>\n",
       "    <tr>\n",
       "      <th>12</th>\n",
       "      <td>idaho</td>\n",
       "      <td>1583364</td>\n",
       "      <td>84</td>\n",
       "      <td>1</td>\n",
       "      <td>1</td>\n",
       "      <td>11</td>\n",
       "      <td>22568</td>\n",
       "      <td>607</td>\n",
       "      <td>34.9</td>\n",
       "    </tr>\n",
       "    <tr>\n",
       "      <th>13</th>\n",
       "      <td>illinois</td>\n",
       "      <td>12848554</td>\n",
       "      <td>63</td>\n",
       "      <td>14</td>\n",
       "      <td>5</td>\n",
       "      <td>16</td>\n",
       "      <td>29666</td>\n",
       "      <td>759</td>\n",
       "      <td>36.8</td>\n",
       "    </tr>\n",
       "    <tr>\n",
       "      <th>14</th>\n",
       "      <td>indiana</td>\n",
       "      <td>6514861</td>\n",
       "      <td>81</td>\n",
       "      <td>9</td>\n",
       "      <td>2</td>\n",
       "      <td>6</td>\n",
       "      <td>24635</td>\n",
       "      <td>577</td>\n",
       "      <td>37.1</td>\n",
       "    </tr>\n",
       "    <tr>\n",
       "      <th>15</th>\n",
       "      <td>iowa</td>\n",
       "      <td>3062553</td>\n",
       "      <td>88</td>\n",
       "      <td>3</td>\n",
       "      <td>2</td>\n",
       "      <td>5</td>\n",
       "      <td>27027</td>\n",
       "      <td>534</td>\n",
       "      <td>38.1</td>\n",
       "    </tr>\n",
       "    <tr>\n",
       "      <th>16</th>\n",
       "      <td>kansas</td>\n",
       "      <td>2868107</td>\n",
       "      <td>78</td>\n",
       "      <td>6</td>\n",
       "      <td>2</td>\n",
       "      <td>11</td>\n",
       "      <td>26929</td>\n",
       "      <td>551</td>\n",
       "      <td>36.0</td>\n",
       "    </tr>\n",
       "    <tr>\n",
       "      <th>17</th>\n",
       "      <td>kentucky</td>\n",
       "      <td>4361333</td>\n",
       "      <td>86</td>\n",
       "      <td>8</td>\n",
       "      <td>1</td>\n",
       "      <td>3</td>\n",
       "      <td>23462</td>\n",
       "      <td>506</td>\n",
       "      <td>38.2</td>\n",
       "    </tr>\n",
       "    <tr>\n",
       "      <th>18</th>\n",
       "      <td>louisiana</td>\n",
       "      <td>4567968</td>\n",
       "      <td>60</td>\n",
       "      <td>32</td>\n",
       "      <td>2</td>\n",
       "      <td>4</td>\n",
       "      <td>24442</td>\n",
       "      <td>610</td>\n",
       "      <td>36.0</td>\n",
       "    </tr>\n",
       "    <tr>\n",
       "      <th>19</th>\n",
       "      <td>maine</td>\n",
       "      <td>1328320</td>\n",
       "      <td>94</td>\n",
       "      <td>1</td>\n",
       "      <td>1</td>\n",
       "      <td>1</td>\n",
       "      <td>26824</td>\n",
       "      <td>664</td>\n",
       "      <td>43.2</td>\n",
       "    </tr>\n",
       "    <tr>\n",
       "      <th>20</th>\n",
       "      <td>maryland</td>\n",
       "      <td>5834299</td>\n",
       "      <td>54</td>\n",
       "      <td>29</td>\n",
       "      <td>6</td>\n",
       "      <td>8</td>\n",
       "      <td>36354</td>\n",
       "      <td>1034</td>\n",
       "      <td>38.0</td>\n",
       "    </tr>\n",
       "    <tr>\n",
       "      <th>21</th>\n",
       "      <td>massachusetts</td>\n",
       "      <td>6605058</td>\n",
       "      <td>76</td>\n",
       "      <td>6</td>\n",
       "      <td>6</td>\n",
       "      <td>10</td>\n",
       "      <td>35763</td>\n",
       "      <td>936</td>\n",
       "      <td>39.2</td>\n",
       "    </tr>\n",
       "    <tr>\n",
       "      <th>22</th>\n",
       "      <td>michigan</td>\n",
       "      <td>9886095</td>\n",
       "      <td>76</td>\n",
       "      <td>14</td>\n",
       "      <td>3</td>\n",
       "      <td>5</td>\n",
       "      <td>25681</td>\n",
       "      <td>623</td>\n",
       "      <td>39.1</td>\n",
       "    </tr>\n",
       "    <tr>\n",
       "      <th>23</th>\n",
       "      <td>minnesota</td>\n",
       "      <td>5347740</td>\n",
       "      <td>83</td>\n",
       "      <td>5</td>\n",
       "      <td>4</td>\n",
       "      <td>5</td>\n",
       "      <td>30913</td>\n",
       "      <td>734</td>\n",
       "      <td>37.6</td>\n",
       "    </tr>\n",
       "    <tr>\n",
       "      <th>24</th>\n",
       "      <td>mississippi</td>\n",
       "      <td>2976872</td>\n",
       "      <td>58</td>\n",
       "      <td>37</td>\n",
       "      <td>1</td>\n",
       "      <td>3</td>\n",
       "      <td>20618</td>\n",
       "      <td>510</td>\n",
       "      <td>36.2</td>\n",
       "    </tr>\n",
       "    <tr>\n",
       "      <th>25</th>\n",
       "      <td>missouri</td>\n",
       "      <td>6007182</td>\n",
       "      <td>81</td>\n",
       "      <td>11</td>\n",
       "      <td>2</td>\n",
       "      <td>4</td>\n",
       "      <td>25649</td>\n",
       "      <td>549</td>\n",
       "      <td>38.0</td>\n",
       "    </tr>\n",
       "    <tr>\n",
       "      <th>26</th>\n",
       "      <td>montana</td>\n",
       "      <td>998554</td>\n",
       "      <td>87</td>\n",
       "      <td>0</td>\n",
       "      <td>1</td>\n",
       "      <td>3</td>\n",
       "      <td>25373</td>\n",
       "      <td>577</td>\n",
       "      <td>39.9</td>\n",
       "    </tr>\n",
       "    <tr>\n",
       "      <th>27</th>\n",
       "      <td>nebraska</td>\n",
       "      <td>1841625</td>\n",
       "      <td>82</td>\n",
       "      <td>4</td>\n",
       "      <td>2</td>\n",
       "      <td>9</td>\n",
       "      <td>26899</td>\n",
       "      <td>563</td>\n",
       "      <td>36.3</td>\n",
       "    </tr>\n",
       "    <tr>\n",
       "      <th>28</th>\n",
       "      <td>nevada</td>\n",
       "      <td>2730066</td>\n",
       "      <td>53</td>\n",
       "      <td>8</td>\n",
       "      <td>7</td>\n",
       "      <td>27</td>\n",
       "      <td>26589</td>\n",
       "      <td>840</td>\n",
       "      <td>36.6</td>\n",
       "    </tr>\n",
       "    <tr>\n",
       "      <th>29</th>\n",
       "      <td>new hampshire</td>\n",
       "      <td>1319171</td>\n",
       "      <td>92</td>\n",
       "      <td>1</td>\n",
       "      <td>2</td>\n",
       "      <td>3</td>\n",
       "      <td>33134</td>\n",
       "      <td>878</td>\n",
       "      <td>41.5</td>\n",
       "    </tr>\n",
       "    <tr>\n",
       "      <th>30</th>\n",
       "      <td>new jersey</td>\n",
       "      <td>8832406</td>\n",
       "      <td>59</td>\n",
       "      <td>13</td>\n",
       "      <td>9</td>\n",
       "      <td>18</td>\n",
       "      <td>36027</td>\n",
       "      <td>1024</td>\n",
       "      <td>39.1</td>\n",
       "    </tr>\n",
       "    <tr>\n",
       "      <th>31</th>\n",
       "      <td>new mexico</td>\n",
       "      <td>2069706</td>\n",
       "      <td>40</td>\n",
       "      <td>2</td>\n",
       "      <td>1</td>\n",
       "      <td>47</td>\n",
       "      <td>23763</td>\n",
       "      <td>635</td>\n",
       "      <td>36.7</td>\n",
       "    </tr>\n",
       "    <tr>\n",
       "      <th>32</th>\n",
       "      <td>new york</td>\n",
       "      <td>19487053</td>\n",
       "      <td>58</td>\n",
       "      <td>14</td>\n",
       "      <td>8</td>\n",
       "      <td>18</td>\n",
       "      <td>32382</td>\n",
       "      <td>963</td>\n",
       "      <td>38.1</td>\n",
       "    </tr>\n",
       "    <tr>\n",
       "      <th>33</th>\n",
       "      <td>north carolina</td>\n",
       "      <td>9651380</td>\n",
       "      <td>65</td>\n",
       "      <td>21</td>\n",
       "      <td>2</td>\n",
       "      <td>9</td>\n",
       "      <td>25284</td>\n",
       "      <td>602</td>\n",
       "      <td>37.6</td>\n",
       "    </tr>\n",
       "    <tr>\n",
       "      <th>34</th>\n",
       "      <td>north dakota</td>\n",
       "      <td>689781</td>\n",
       "      <td>88</td>\n",
       "      <td>1</td>\n",
       "      <td>1</td>\n",
       "      <td>2</td>\n",
       "      <td>29732</td>\n",
       "      <td>564</td>\n",
       "      <td>36.4</td>\n",
       "    </tr>\n",
       "    <tr>\n",
       "      <th>35</th>\n",
       "      <td>ohio</td>\n",
       "      <td>11549590</td>\n",
       "      <td>81</td>\n",
       "      <td>12</td>\n",
       "      <td>2</td>\n",
       "      <td>3</td>\n",
       "      <td>26046</td>\n",
       "      <td>562</td>\n",
       "      <td>39.0</td>\n",
       "    </tr>\n",
       "    <tr>\n",
       "      <th>36</th>\n",
       "      <td>oklahoma</td>\n",
       "      <td>3785742</td>\n",
       "      <td>68</td>\n",
       "      <td>7</td>\n",
       "      <td>2</td>\n",
       "      <td>9</td>\n",
       "      <td>24208</td>\n",
       "      <td>525</td>\n",
       "      <td>36.2</td>\n",
       "    </tr>\n",
       "    <tr>\n",
       "      <th>37</th>\n",
       "      <td>oregon</td>\n",
       "      <td>3868721</td>\n",
       "      <td>78</td>\n",
       "      <td>2</td>\n",
       "      <td>4</td>\n",
       "      <td>12</td>\n",
       "      <td>26809</td>\n",
       "      <td>749</td>\n",
       "      <td>38.7</td>\n",
       "    </tr>\n",
       "    <tr>\n",
       "      <th>38</th>\n",
       "      <td>pennsylvania</td>\n",
       "      <td>12731381</td>\n",
       "      <td>79</td>\n",
       "      <td>10</td>\n",
       "      <td>3</td>\n",
       "      <td>6</td>\n",
       "      <td>28502</td>\n",
       "      <td>652</td>\n",
       "      <td>40.3</td>\n",
       "    </tr>\n",
       "    <tr>\n",
       "      <th>39</th>\n",
       "      <td>rhode island</td>\n",
       "      <td>1051695</td>\n",
       "      <td>76</td>\n",
       "      <td>5</td>\n",
       "      <td>3</td>\n",
       "      <td>13</td>\n",
       "      <td>30469</td>\n",
       "      <td>781</td>\n",
       "      <td>39.6</td>\n",
       "    </tr>\n",
       "    <tr>\n",
       "      <th>40</th>\n",
       "      <td>south carolina</td>\n",
       "      <td>4679602</td>\n",
       "      <td>64</td>\n",
       "      <td>28</td>\n",
       "      <td>1</td>\n",
       "      <td>5</td>\n",
       "      <td>23943</td>\n",
       "      <td>582</td>\n",
       "      <td>38.1</td>\n",
       "    </tr>\n",
       "    <tr>\n",
       "      <th>41</th>\n",
       "      <td>south dakota</td>\n",
       "      <td>825198</td>\n",
       "      <td>84</td>\n",
       "      <td>1</td>\n",
       "      <td>1</td>\n",
       "      <td>3</td>\n",
       "      <td>25740</td>\n",
       "      <td>517</td>\n",
       "      <td>36.9</td>\n",
       "    </tr>\n",
       "    <tr>\n",
       "      <th>42</th>\n",
       "      <td>tennessee</td>\n",
       "      <td>6402387</td>\n",
       "      <td>75</td>\n",
       "      <td>17</td>\n",
       "      <td>1</td>\n",
       "      <td>5</td>\n",
       "      <td>24409</td>\n",
       "      <td>568</td>\n",
       "      <td>38.2</td>\n",
       "    </tr>\n",
       "    <tr>\n",
       "      <th>43</th>\n",
       "      <td>texas</td>\n",
       "      <td>25639373</td>\n",
       "      <td>45</td>\n",
       "      <td>12</td>\n",
       "      <td>4</td>\n",
       "      <td>38</td>\n",
       "      <td>26019</td>\n",
       "      <td>688</td>\n",
       "      <td>33.8</td>\n",
       "    </tr>\n",
       "    <tr>\n",
       "      <th>44</th>\n",
       "      <td>utah</td>\n",
       "      <td>2813673</td>\n",
       "      <td>80</td>\n",
       "      <td>1</td>\n",
       "      <td>2</td>\n",
       "      <td>13</td>\n",
       "      <td>23873</td>\n",
       "      <td>739</td>\n",
       "      <td>29.6</td>\n",
       "    </tr>\n",
       "    <tr>\n",
       "      <th>45</th>\n",
       "      <td>vermont</td>\n",
       "      <td>625904</td>\n",
       "      <td>94</td>\n",
       "      <td>1</td>\n",
       "      <td>1</td>\n",
       "      <td>2</td>\n",
       "      <td>29167</td>\n",
       "      <td>754</td>\n",
       "      <td>42.0</td>\n",
       "    </tr>\n",
       "    <tr>\n",
       "      <th>46</th>\n",
       "      <td>virginia</td>\n",
       "      <td>8100653</td>\n",
       "      <td>64</td>\n",
       "      <td>19</td>\n",
       "      <td>6</td>\n",
       "      <td>8</td>\n",
       "      <td>33493</td>\n",
       "      <td>910</td>\n",
       "      <td>37.5</td>\n",
       "    </tr>\n",
       "    <tr>\n",
       "      <th>47</th>\n",
       "      <td>washington</td>\n",
       "      <td>6819579</td>\n",
       "      <td>72</td>\n",
       "      <td>3</td>\n",
       "      <td>7</td>\n",
       "      <td>11</td>\n",
       "      <td>30742</td>\n",
       "      <td>853</td>\n",
       "      <td>37.3</td>\n",
       "    </tr>\n",
       "    <tr>\n",
       "      <th>48</th>\n",
       "      <td>west virginia</td>\n",
       "      <td>1853619</td>\n",
       "      <td>93</td>\n",
       "      <td>3</td>\n",
       "      <td>1</td>\n",
       "      <td>1</td>\n",
       "      <td>22966</td>\n",
       "      <td>448</td>\n",
       "      <td>41.5</td>\n",
       "    </tr>\n",
       "    <tr>\n",
       "      <th>49</th>\n",
       "      <td>wisconsin</td>\n",
       "      <td>5706871</td>\n",
       "      <td>83</td>\n",
       "      <td>6</td>\n",
       "      <td>2</td>\n",
       "      <td>6</td>\n",
       "      <td>27523</td>\n",
       "      <td>636</td>\n",
       "      <td>38.7</td>\n",
       "    </tr>\n",
       "    <tr>\n",
       "      <th>50</th>\n",
       "      <td>wyoming</td>\n",
       "      <td>570134</td>\n",
       "      <td>85</td>\n",
       "      <td>1</td>\n",
       "      <td>1</td>\n",
       "      <td>9</td>\n",
       "      <td>28902</td>\n",
       "      <td>647</td>\n",
       "      <td>36.8</td>\n",
       "    </tr>\n",
       "  </tbody>\n",
       "</table>\n",
       "</div>"
      ],
      "text/plain": [
       "                  region  total_population  percent_white  percent_black  \\\n",
       "0                alabama           4799277             67             26   \n",
       "1                 alaska            720316             63              3   \n",
       "2                arizona           6479703             57              4   \n",
       "3               arkansas           2933369             74             15   \n",
       "4             california          37659181             40              6   \n",
       "5               colorado           5119329             70              4   \n",
       "6            connecticut           3583561             70              9   \n",
       "7               delaware            908446             65             21   \n",
       "8   district of columbia            619371             35             49   \n",
       "9                florida          19091156             57             15   \n",
       "10               georgia           9810417             55             30   \n",
       "11                hawaii           1376298             23              2   \n",
       "12                 idaho           1583364             84              1   \n",
       "13              illinois          12848554             63             14   \n",
       "14               indiana           6514861             81              9   \n",
       "15                  iowa           3062553             88              3   \n",
       "16                kansas           2868107             78              6   \n",
       "17              kentucky           4361333             86              8   \n",
       "18             louisiana           4567968             60             32   \n",
       "19                 maine           1328320             94              1   \n",
       "20              maryland           5834299             54             29   \n",
       "21         massachusetts           6605058             76              6   \n",
       "22              michigan           9886095             76             14   \n",
       "23             minnesota           5347740             83              5   \n",
       "24           mississippi           2976872             58             37   \n",
       "25              missouri           6007182             81             11   \n",
       "26               montana            998554             87              0   \n",
       "27              nebraska           1841625             82              4   \n",
       "28                nevada           2730066             53              8   \n",
       "29         new hampshire           1319171             92              1   \n",
       "30            new jersey           8832406             59             13   \n",
       "31            new mexico           2069706             40              2   \n",
       "32              new york          19487053             58             14   \n",
       "33        north carolina           9651380             65             21   \n",
       "34          north dakota            689781             88              1   \n",
       "35                  ohio          11549590             81             12   \n",
       "36              oklahoma           3785742             68              7   \n",
       "37                oregon           3868721             78              2   \n",
       "38          pennsylvania          12731381             79             10   \n",
       "39          rhode island           1051695             76              5   \n",
       "40        south carolina           4679602             64             28   \n",
       "41          south dakota            825198             84              1   \n",
       "42             tennessee           6402387             75             17   \n",
       "43                 texas          25639373             45             12   \n",
       "44                  utah           2813673             80              1   \n",
       "45               vermont            625904             94              1   \n",
       "46              virginia           8100653             64             19   \n",
       "47            washington           6819579             72              3   \n",
       "48         west virginia           1853619             93              3   \n",
       "49             wisconsin           5706871             83              6   \n",
       "50               wyoming            570134             85              1   \n",
       "\n",
       "    percent_asian  percent_hispanic  per_capita_income  median_rent  \\\n",
       "0               1                 4              23680          501   \n",
       "1               5                 6              32651          978   \n",
       "2               3                30              25358          747   \n",
       "3               1                 7              22170          480   \n",
       "4              13                38              29527         1119   \n",
       "5               3                21              31109          825   \n",
       "6               4                14              37892          880   \n",
       "7               3                 8              29819          828   \n",
       "8               3                10              45290         1154   \n",
       "9               2                23              26236          838   \n",
       "10              3                 9              25182          673   \n",
       "11             37                 9              29305         1220   \n",
       "12              1                11              22568          607   \n",
       "13              5                16              29666          759   \n",
       "14              2                 6              24635          577   \n",
       "15              2                 5              27027          534   \n",
       "16              2                11              26929          551   \n",
       "17              1                 3              23462          506   \n",
       "18              2                 4              24442          610   \n",
       "19              1                 1              26824          664   \n",
       "20              6                 8              36354         1034   \n",
       "21              6                10              35763          936   \n",
       "22              3                 5              25681          623   \n",
       "23              4                 5              30913          734   \n",
       "24              1                 3              20618          510   \n",
       "25              2                 4              25649          549   \n",
       "26              1                 3              25373          577   \n",
       "27              2                 9              26899          563   \n",
       "28              7                27              26589          840   \n",
       "29              2                 3              33134          878   \n",
       "30              9                18              36027         1024   \n",
       "31              1                47              23763          635   \n",
       "32              8                18              32382          963   \n",
       "33              2                 9              25284          602   \n",
       "34              1                 2              29732          564   \n",
       "35              2                 3              26046          562   \n",
       "36              2                 9              24208          525   \n",
       "37              4                12              26809          749   \n",
       "38              3                 6              28502          652   \n",
       "39              3                13              30469          781   \n",
       "40              1                 5              23943          582   \n",
       "41              1                 3              25740          517   \n",
       "42              1                 5              24409          568   \n",
       "43              4                38              26019          688   \n",
       "44              2                13              23873          739   \n",
       "45              1                 2              29167          754   \n",
       "46              6                 8              33493          910   \n",
       "47              7                11              30742          853   \n",
       "48              1                 1              22966          448   \n",
       "49              2                 6              27523          636   \n",
       "50              1                 9              28902          647   \n",
       "\n",
       "    median_age  \n",
       "0         38.1  \n",
       "1         33.6  \n",
       "2         36.3  \n",
       "3         37.5  \n",
       "4         35.4  \n",
       "5         36.1  \n",
       "6         40.2  \n",
       "7         38.9  \n",
       "8         33.8  \n",
       "9         41.0  \n",
       "10        35.6  \n",
       "11        38.3  \n",
       "12        34.9  \n",
       "13        36.8  \n",
       "14        37.1  \n",
       "15        38.1  \n",
       "16        36.0  \n",
       "17        38.2  \n",
       "18        36.0  \n",
       "19        43.2  \n",
       "20        38.0  \n",
       "21        39.2  \n",
       "22        39.1  \n",
       "23        37.6  \n",
       "24        36.2  \n",
       "25        38.0  \n",
       "26        39.9  \n",
       "27        36.3  \n",
       "28        36.6  \n",
       "29        41.5  \n",
       "30        39.1  \n",
       "31        36.7  \n",
       "32        38.1  \n",
       "33        37.6  \n",
       "34        36.4  \n",
       "35        39.0  \n",
       "36        36.2  \n",
       "37        38.7  \n",
       "38        40.3  \n",
       "39        39.6  \n",
       "40        38.1  \n",
       "41        36.9  \n",
       "42        38.2  \n",
       "43        33.8  \n",
       "44        29.6  \n",
       "45        42.0  \n",
       "46        37.5  \n",
       "47        37.3  \n",
       "48        41.5  \n",
       "49        38.7  \n",
       "50        36.8  "
      ]
     },
     "execution_count": 12,
     "metadata": {},
     "output_type": "execute_result"
    }
   ],
   "source": [
    "demography_df"
   ]
  },
  {
   "attachments": {},
   "cell_type": "markdown",
   "metadata": {},
   "source": [
    "#### <span style=\"color:red\">**TASK**</span>\n",
    "\n",
    "Plot a bar chart showing population of each state in the USA.\n",
    "- Sort the states by population in descending order.\n",
    "- Use the `plt.xticks()` method to rotate the x-axis labels by 90 degrees.\n",
    "- Use the `plt.title()` method to add a title to the plot."
   ]
  },
  {
   "cell_type": "code",
   "execution_count": 7,
   "metadata": {},
   "outputs": [
    {
     "data": {
      "image/png": "[encoded data removed]",
      "text/plain": [
       "<Figure size 1500x800 with 1 Axes>"
      ]
     },
     "metadata": {},
     "output_type": "display_data"
    }
   ],
   "source": [
    "# Code goes here"
   ]
  },
  {
   "attachments": {},
   "cell_type": "markdown",
   "metadata": {},
   "source": [
    "#### <span style=\"color:red\">**TASK**</span>\n",
    "\n",
    "Plot a line chart showing the High-Quality Price in each state in the state of California."
   ]
  },
  {
   "cell_type": "code",
   "execution_count": 21,
   "metadata": {},
   "outputs": [
    {
     "data": {
      "text/plain": [
       "<Axes: xlabel='date'>"
      ]
     },
     "execution_count": 21,
     "metadata": {},
     "output_type": "execute_result"
    },
    {
     "data": {
      "image/png": "[encoded data removed]",
      "text/plain": [
       "<Figure size 1500x500 with 1 Axes>"
      ]
     },
     "metadata": {},
     "output_type": "display_data"
    }
   ],
   "source": []
  },
  {
   "cell_type": "markdown",
   "metadata": {},
   "source": []
  },
  {
   "attachments": {},
   "cell_type": "markdown",
   "metadata": {},
   "source": [
    "#### <span style=\"color:red\">**TASK**</span>\n",
    "\n",
    "Filter the data to show only the data for the year 2014 for Oregon state and find mean, median, mode, and standard deviation of the High-Quality, Medium-Quality, and Low-Quality prices.\n",
    "\n",
    "*Hint:* check what this code is doing: `prices_df.iloc[0]['date'].year`"
   ]
  },
  {
   "cell_type": "code",
   "execution_count": 24,
   "metadata": {},
   "outputs": [
    {
     "data": {
      "text/plain": [
       "2014"
      ]
     },
     "execution_count": 24,
     "metadata": {},
     "output_type": "execute_result"
    }
   ],
   "source": [
    "prices_df.loc[0, 'date'].year"
   ]
  },
  {
   "cell_type": "code",
   "execution_count": 25,
   "metadata": {},
   "outputs": [],
   "source": [
    "# Code goes here"
   ]
  },
  {
   "attachments": {},
   "cell_type": "markdown",
   "metadata": {},
   "source": [
    "#### <span style=\"color:red\">**TASK**</span>\n",
    "\n",
    "1. Calculate the mean `HighQ` for Oregon and plot it.\n",
    "2. Calculate the median `HighQ` for Oregon and plot it. (Median is the middle value.)\n",
    "3. Calculate the mode `HighQ` for Oregon and plot it. (Mode is the most common value.)\n",
    "4. Calculate the variance `HighQ` for Oregon and plot it. (Variance is the average distance of each data point from the mean.)\n",
    "5. Calculate the standard deviation `HighQ` for Oregon and plot it. ( Standard deviation is the square root of the variance.)"
   ]
  },
  {
   "cell_type": "code",
   "execution_count": null,
   "metadata": {},
   "outputs": [],
   "source": [
    "# Code goes here"
   ]
  },
  {
   "attachments": {},
   "cell_type": "markdown",
   "metadata": {},
   "source": [
    "### Pandas built-in descriptive statistics\n",
    "\n",
    "Pandas dataframes have a built-in method for calculating descriptive statistics. Let's use it to calculate the mean, median, mode, variance, and standard deviation. We will use the `describe()` method:"
   ]
  },
  {
   "cell_type": "code",
   "execution_count": 26,
   "metadata": {},
   "outputs": [
    {
     "data": {
      "text/html": [
       "<div>\n",
       "<style scoped>\n",
       "    .dataframe tbody tr th:only-of-type {\n",
       "        vertical-align: middle;\n",
       "    }\n",
       "\n",
       "    .dataframe tbody tr th {\n",
       "        vertical-align: top;\n",
       "    }\n",
       "\n",
       "    .dataframe thead th {\n",
       "        text-align: right;\n",
       "    }\n",
       "</style>\n",
       "<table border=\"1\" class=\"dataframe\">\n",
       "  <thead>\n",
       "    <tr style=\"text-align: right;\">\n",
       "      <th></th>\n",
       "      <th>HighQ</th>\n",
       "      <th>HighQN</th>\n",
       "      <th>MedQ</th>\n",
       "      <th>MedQN</th>\n",
       "      <th>LowQ</th>\n",
       "      <th>LowQN</th>\n",
       "    </tr>\n",
       "  </thead>\n",
       "  <tbody>\n",
       "    <tr>\n",
       "      <th>count</th>\n",
       "      <td>22899.000000</td>\n",
       "      <td>22899.000000</td>\n",
       "      <td>22899.000000</td>\n",
       "      <td>22899.000000</td>\n",
       "      <td>12342.000000</td>\n",
       "      <td>22899.000000</td>\n",
       "    </tr>\n",
       "    <tr>\n",
       "      <th>mean</th>\n",
       "      <td>329.759854</td>\n",
       "      <td>2274.743657</td>\n",
       "      <td>247.618306</td>\n",
       "      <td>2183.737805</td>\n",
       "      <td>203.747847</td>\n",
       "      <td>202.804489</td>\n",
       "    </tr>\n",
       "    <tr>\n",
       "      <th>std</th>\n",
       "      <td>41.173167</td>\n",
       "      <td>2641.936586</td>\n",
       "      <td>44.276015</td>\n",
       "      <td>2789.902626</td>\n",
       "      <td>105.480774</td>\n",
       "      <td>220.531987</td>\n",
       "    </tr>\n",
       "    <tr>\n",
       "      <th>min</th>\n",
       "      <td>202.020000</td>\n",
       "      <td>93.000000</td>\n",
       "      <td>144.850000</td>\n",
       "      <td>134.000000</td>\n",
       "      <td>63.700000</td>\n",
       "      <td>11.000000</td>\n",
       "    </tr>\n",
       "    <tr>\n",
       "      <th>25%</th>\n",
       "      <td>303.780000</td>\n",
       "      <td>597.000000</td>\n",
       "      <td>215.775000</td>\n",
       "      <td>548.000000</td>\n",
       "      <td>147.117500</td>\n",
       "      <td>51.000000</td>\n",
       "    </tr>\n",
       "    <tr>\n",
       "      <th>50%</th>\n",
       "      <td>342.310000</td>\n",
       "      <td>1420.000000</td>\n",
       "      <td>245.800000</td>\n",
       "      <td>1320.000000</td>\n",
       "      <td>186.760000</td>\n",
       "      <td>139.000000</td>\n",
       "    </tr>\n",
       "    <tr>\n",
       "      <th>75%</th>\n",
       "      <td>356.550000</td>\n",
       "      <td>2958.000000</td>\n",
       "      <td>274.155000</td>\n",
       "      <td>2673.000000</td>\n",
       "      <td>221.360000</td>\n",
       "      <td>263.000000</td>\n",
       "    </tr>\n",
       "    <tr>\n",
       "      <th>max</th>\n",
       "      <td>415.700000</td>\n",
       "      <td>18492.000000</td>\n",
       "      <td>379.000000</td>\n",
       "      <td>22027.000000</td>\n",
       "      <td>734.650000</td>\n",
       "      <td>1287.000000</td>\n",
       "    </tr>\n",
       "  </tbody>\n",
       "</table>\n",
       "</div>"
      ],
      "text/plain": [
       "              HighQ        HighQN          MedQ         MedQN          LowQ  \\\n",
       "count  22899.000000  22899.000000  22899.000000  22899.000000  12342.000000   \n",
       "mean     329.759854   2274.743657    247.618306   2183.737805    203.747847   \n",
       "std       41.173167   2641.936586     44.276015   2789.902626    105.480774   \n",
       "min      202.020000     93.000000    144.850000    134.000000     63.700000   \n",
       "25%      303.780000    597.000000    215.775000    548.000000    147.117500   \n",
       "50%      342.310000   1420.000000    245.800000   1320.000000    186.760000   \n",
       "75%      356.550000   2958.000000    274.155000   2673.000000    221.360000   \n",
       "max      415.700000  18492.000000    379.000000  22027.000000    734.650000   \n",
       "\n",
       "              LowQN  \n",
       "count  22899.000000  \n",
       "mean     202.804489  \n",
       "std      220.531987  \n",
       "min       11.000000  \n",
       "25%       51.000000  \n",
       "50%      139.000000  \n",
       "75%      263.000000  \n",
       "max     1287.000000  "
      ]
     },
     "execution_count": 26,
     "metadata": {},
     "output_type": "execute_result"
    }
   ],
   "source": [
    "prices_df.describe()"
   ]
  },
  {
   "attachments": {},
   "cell_type": "markdown",
   "metadata": {},
   "source": [
    "### Covariance and correlation\n",
    "\n",
    "Covariance is a measure of how two variables change together. A positive covariance means that when one variable increases, the other also increases. A negative covariance means that when one variable increases, the other decreases.\n",
    "\n",
    "Pandas has a built-in method for calculating covariance. Let's compare covariance for the `HighQ` prices in California and New York. Create a new dataframe with only the `HighQ`  prices and `date` for California and New York. Create columns `CA_HighQ` and `NY_HighQ`:"
   ]
  },
  {
   "cell_type": "code",
   "execution_count": 73,
   "metadata": {},
   "outputs": [],
   "source": [
    "ca_ny_prices_df = prices_df.pivot(index='date', columns='State', values='HighQ')[['California', 'New York']]\n",
    "ca_ny_prices_df.columns = ['CA_HighQ', 'NY_HighQ']\n",
    "ca_ny_prices_df.reset_index(inplace=True)"
   ]
  },
  {
   "cell_type": "code",
   "execution_count": 77,
   "metadata": {},
   "outputs": [
    {
     "data": {
      "text/html": [
       "<div>\n",
       "<style scoped>\n",
       "    .dataframe tbody tr th:only-of-type {\n",
       "        vertical-align: middle;\n",
       "    }\n",
       "\n",
       "    .dataframe tbody tr th {\n",
       "        vertical-align: top;\n",
       "    }\n",
       "\n",
       "    .dataframe thead th {\n",
       "        text-align: right;\n",
       "    }\n",
       "</style>\n",
       "<table border=\"1\" class=\"dataframe\">\n",
       "  <thead>\n",
       "    <tr style=\"text-align: right;\">\n",
       "      <th></th>\n",
       "      <th>date</th>\n",
       "      <th>CA_HighQ</th>\n",
       "      <th>NY_HighQ</th>\n",
       "    </tr>\n",
       "  </thead>\n",
       "  <tbody>\n",
       "    <tr>\n",
       "      <th>0</th>\n",
       "      <td>2013-12-27</td>\n",
       "      <td>248.77</td>\n",
       "      <td>351.98</td>\n",
       "    </tr>\n",
       "    <tr>\n",
       "      <th>1</th>\n",
       "      <td>2013-12-28</td>\n",
       "      <td>248.74</td>\n",
       "      <td>351.92</td>\n",
       "    </tr>\n",
       "    <tr>\n",
       "      <th>2</th>\n",
       "      <td>2013-12-29</td>\n",
       "      <td>248.76</td>\n",
       "      <td>351.99</td>\n",
       "    </tr>\n",
       "    <tr>\n",
       "      <th>3</th>\n",
       "      <td>2013-12-30</td>\n",
       "      <td>248.82</td>\n",
       "      <td>352.02</td>\n",
       "    </tr>\n",
       "    <tr>\n",
       "      <th>4</th>\n",
       "      <td>2013-12-31</td>\n",
       "      <td>248.76</td>\n",
       "      <td>351.97</td>\n",
       "    </tr>\n",
       "    <tr>\n",
       "      <th>...</th>\n",
       "      <td>...</td>\n",
       "      <td>...</td>\n",
       "      <td>...</td>\n",
       "    </tr>\n",
       "    <tr>\n",
       "      <th>444</th>\n",
       "      <td>2015-06-07</td>\n",
       "      <td>241.91</td>\n",
       "      <td>338.27</td>\n",
       "    </tr>\n",
       "    <tr>\n",
       "      <th>445</th>\n",
       "      <td>2015-06-08</td>\n",
       "      <td>241.93</td>\n",
       "      <td>338.26</td>\n",
       "    </tr>\n",
       "    <tr>\n",
       "      <th>446</th>\n",
       "      <td>2015-06-09</td>\n",
       "      <td>241.93</td>\n",
       "      <td>338.27</td>\n",
       "    </tr>\n",
       "    <tr>\n",
       "      <th>447</th>\n",
       "      <td>2015-06-10</td>\n",
       "      <td>241.93</td>\n",
       "      <td>338.40</td>\n",
       "    </tr>\n",
       "    <tr>\n",
       "      <th>448</th>\n",
       "      <td>2015-06-11</td>\n",
       "      <td>241.93</td>\n",
       "      <td>338.37</td>\n",
       "    </tr>\n",
       "  </tbody>\n",
       "</table>\n",
       "<p>449 rows × 3 columns</p>\n",
       "</div>"
      ],
      "text/plain": [
       "          date  CA_HighQ  NY_HighQ\n",
       "0   2013-12-27    248.77    351.98\n",
       "1   2013-12-28    248.74    351.92\n",
       "2   2013-12-29    248.76    351.99\n",
       "3   2013-12-30    248.82    352.02\n",
       "4   2013-12-31    248.76    351.97\n",
       "..         ...       ...       ...\n",
       "444 2015-06-07    241.91    338.27\n",
       "445 2015-06-08    241.93    338.26\n",
       "446 2015-06-09    241.93    338.27\n",
       "447 2015-06-10    241.93    338.40\n",
       "448 2015-06-11    241.93    338.37\n",
       "\n",
       "[449 rows x 3 columns]"
      ]
     },
     "execution_count": 77,
     "metadata": {},
     "output_type": "execute_result"
    }
   ],
   "source": [
    "ca_ny_prices_df"
   ]
  },
  {
   "cell_type": "code",
   "execution_count": 78,
   "metadata": {},
   "outputs": [
    {
     "data": {
      "text/html": [
       "<div>\n",
       "<style scoped>\n",
       "    .dataframe tbody tr th:only-of-type {\n",
       "        vertical-align: middle;\n",
       "    }\n",
       "\n",
       "    .dataframe tbody tr th {\n",
       "        vertical-align: top;\n",
       "    }\n",
       "\n",
       "    .dataframe thead th {\n",
       "        text-align: right;\n",
       "    }\n",
       "</style>\n",
       "<table border=\"1\" class=\"dataframe\">\n",
       "  <thead>\n",
       "    <tr style=\"text-align: right;\">\n",
       "      <th></th>\n",
       "      <th>CA_HighQ</th>\n",
       "      <th>NY_HighQ</th>\n",
       "    </tr>\n",
       "  </thead>\n",
       "  <tbody>\n",
       "    <tr>\n",
       "      <th>CA_HighQ</th>\n",
       "      <td>2.982686</td>\n",
       "      <td>5.916815</td>\n",
       "    </tr>\n",
       "    <tr>\n",
       "      <th>NY_HighQ</th>\n",
       "      <td>5.916815</td>\n",
       "      <td>12.245147</td>\n",
       "    </tr>\n",
       "  </tbody>\n",
       "</table>\n",
       "</div>"
      ],
      "text/plain": [
       "          CA_HighQ   NY_HighQ\n",
       "CA_HighQ  2.982686   5.916815\n",
       "NY_HighQ  5.916815  12.245147"
      ]
     },
     "execution_count": 78,
     "metadata": {},
     "output_type": "execute_result"
    }
   ],
   "source": [
    "ca_ny_prices_df[['CA_HighQ', 'NY_HighQ']].cov()"
   ]
  },
  {
   "cell_type": "code",
   "execution_count": 79,
   "metadata": {},
   "outputs": [
    {
     "data": {
      "text/plain": [
       "<Axes: xlabel='date'>"
      ]
     },
     "execution_count": 79,
     "metadata": {},
     "output_type": "execute_result"
    },
    {
     "data": {
      "image/png": "[encoded data removed]",
      "text/plain": [
       "<Figure size 640x480 with 1 Axes>"
      ]
     },
     "metadata": {},
     "output_type": "display_data"
    }
   ],
   "source": [
    "ca_ny_prices_df.plot(x='date', y=['CA_HighQ', 'NY_HighQ'])\n"
   ]
  },
  {
   "attachments": {},
   "cell_type": "markdown",
   "metadata": {},
   "source": [
    "Correlation is a measure of how two variables are related. It is a normalized version of covariance. It is a number between -1 and 1. A value of 1 means that there is a perfect positive correlation. A value of -1 means that there is a perfect negative correlation. A value of 0 means that there is no correlation. Let's calculate the correlation between the `HighQ` prices in California and New York:"
   ]
  },
  {
   "cell_type": "code",
   "execution_count": 80,
   "metadata": {},
   "outputs": [
    {
     "data": {
      "text/html": [
       "<div>\n",
       "<style scoped>\n",
       "    .dataframe tbody tr th:only-of-type {\n",
       "        vertical-align: middle;\n",
       "    }\n",
       "\n",
       "    .dataframe tbody tr th {\n",
       "        vertical-align: top;\n",
       "    }\n",
       "\n",
       "    .dataframe thead th {\n",
       "        text-align: right;\n",
       "    }\n",
       "</style>\n",
       "<table border=\"1\" class=\"dataframe\">\n",
       "  <thead>\n",
       "    <tr style=\"text-align: right;\">\n",
       "      <th></th>\n",
       "      <th>CA_HighQ</th>\n",
       "      <th>NY_HighQ</th>\n",
       "    </tr>\n",
       "  </thead>\n",
       "  <tbody>\n",
       "    <tr>\n",
       "      <th>CA_HighQ</th>\n",
       "      <td>1.000000</td>\n",
       "      <td>0.979044</td>\n",
       "    </tr>\n",
       "    <tr>\n",
       "      <th>NY_HighQ</th>\n",
       "      <td>0.979044</td>\n",
       "      <td>1.000000</td>\n",
       "    </tr>\n",
       "  </tbody>\n",
       "</table>\n",
       "</div>"
      ],
      "text/plain": [
       "          CA_HighQ  NY_HighQ\n",
       "CA_HighQ  1.000000  0.979044\n",
       "NY_HighQ  0.979044  1.000000"
      ]
     },
     "execution_count": 80,
     "metadata": {},
     "output_type": "execute_result"
    }
   ],
   "source": [
    "ca_ny_prices_df[['CA_HighQ', 'NY_HighQ']].corr()"
   ]
  },
  {
   "attachments": {},
   "cell_type": "markdown",
   "metadata": {},
   "source": [
    "#### <span style=\"color:red\">**TASK**</span>\n",
    "\n",
    "Plot the correlation matrix for the `HighQ` prices in California, New York. Find the correct `sns` function to do that (https://seaborn.pydata.org/index.html)."
   ]
  },
  {
   "cell_type": "code",
   "execution_count": null,
   "metadata": {},
   "outputs": [],
   "source": [
    "# Code goes here"
   ]
  },
  {
   "cell_type": "markdown",
   "metadata": {},
   "source": [
    "#### <span style=\"color:red\">**TASK**</span>\n",
    "\n",
    "Plot the correlation matrix for the `HighQ` prices in California, New York. Find the correct `sns` function to do that (https://seaborn.pydata.org/index.html)."
   ]
  },
  {
   "attachments": {},
   "cell_type": "markdown",
   "metadata": {},
   "source": [
    "### Histograms\n",
    "\n",
    "A histogram is a graphical representation of the distribution of numerical data. It is an estimate of the probability distribution of a continuous variable. The x-axis represents the values of the variable, and the y-axis represents the frequency of occurrence of each value. The height of the bars is proportional to the frequency of occurrence of the values.\n",
    "\n",
    "#### Distribution\n",
    "\n",
    "> A distribution is a function that gives the probabilities of occurrence of different possible outcomes in an experiment.\n",
    "\n",
    "\n",
    "Let's plot distribution of weed prices for 2015"
   ]
  },
  {
   "cell_type": "code",
   "execution_count": 87,
   "metadata": {},
   "outputs": [
    {
     "data": {
      "text/plain": [
       "<Axes: xlabel='HighQ', ylabel='Count'>"
      ]
     },
     "execution_count": 87,
     "metadata": {},
     "output_type": "execute_result"
    },
    {
     "data": {
      "image/png": "[encoded data removed]",
      "text/plain": [
       "<Figure size 640x480 with 1 Axes>"
      ]
     },
     "metadata": {},
     "output_type": "display_data"
    }
   ],
   "source": [
    "prices_df_2015 = prices_df[prices_df.date.dt.year == 2015]\n",
    "sns.histplot(prices_df_2015.HighQ, kde=True)"
   ]
  },
  {
   "attachments": {},
   "cell_type": "markdown",
   "metadata": {},
   "source": [
    "We can see that the distribution is skewed to the right. The mean is greater than the median. The distribution is positively skewed. The mean is greater than the mode. The distribution is positively skewed. The median is greater than the mode. The distribution is negatively skewed."
   ]
  },
  {
   "attachments": {},
   "cell_type": "markdown",
   "metadata": {},
   "source": [
    "Let's count means for each state in January 2015:"
   ]
  },
  {
   "cell_type": "code",
   "execution_count": 97,
   "metadata": {},
   "outputs": [],
   "source": [
    "weed_jan2015_summarized = prices_df.loc[(prices_df['date'].dt.month==1) & (prices_df['date'].dt.year==2015), [\"State\", \"HighQ\"]].groupby(\"State\").mean().reset_index()"
   ]
  },
  {
   "cell_type": "code",
   "execution_count": 99,
   "metadata": {},
   "outputs": [
    {
     "data": {
      "text/html": [
       "<div>\n",
       "<style scoped>\n",
       "    .dataframe tbody tr th:only-of-type {\n",
       "        vertical-align: middle;\n",
       "    }\n",
       "\n",
       "    .dataframe tbody tr th {\n",
       "        vertical-align: top;\n",
       "    }\n",
       "\n",
       "    .dataframe thead th {\n",
       "        text-align: right;\n",
       "    }\n",
       "</style>\n",
       "<table border=\"1\" class=\"dataframe\">\n",
       "  <thead>\n",
       "    <tr style=\"text-align: right;\">\n",
       "      <th></th>\n",
       "      <th>State</th>\n",
       "      <th>HighQ</th>\n",
       "    </tr>\n",
       "  </thead>\n",
       "  <tbody>\n",
       "    <tr>\n",
       "      <th>0</th>\n",
       "      <td>Alabama</td>\n",
       "      <td>336.504839</td>\n",
       "    </tr>\n",
       "    <tr>\n",
       "      <th>1</th>\n",
       "      <td>Alaska</td>\n",
       "      <td>302.972581</td>\n",
       "    </tr>\n",
       "    <tr>\n",
       "      <th>2</th>\n",
       "      <td>Arizona</td>\n",
       "      <td>297.782903</td>\n",
       "    </tr>\n",
       "    <tr>\n",
       "      <th>3</th>\n",
       "      <td>Arkansas</td>\n",
       "      <td>341.705806</td>\n",
       "    </tr>\n",
       "    <tr>\n",
       "      <th>4</th>\n",
       "      <td>California</td>\n",
       "      <td>243.602258</td>\n",
       "    </tr>\n",
       "  </tbody>\n",
       "</table>\n",
       "</div>"
      ],
      "text/plain": [
       "        State       HighQ\n",
       "0     Alabama  336.504839\n",
       "1      Alaska  302.972581\n",
       "2     Arizona  297.782903\n",
       "3    Arkansas  341.705806\n",
       "4  California  243.602258"
      ]
     },
     "execution_count": 99,
     "metadata": {},
     "output_type": "execute_result"
    }
   ],
   "source": [
    "weed_jan2015_summarized.head()"
   ]
  },
  {
   "cell_type": "code",
   "execution_count": 100,
   "metadata": {},
   "outputs": [
    {
     "data": {
      "text/plain": [
       "<Axes: xlabel='HighQ', ylabel='Count'>"
      ]
     },
     "execution_count": 100,
     "metadata": {},
     "output_type": "execute_result"
    },
    {
     "data": {
      "image/png": "[encoded data removed]",
      "text/plain": [
       "<Figure size 640x480 with 1 Axes>"
      ]
     },
     "metadata": {},
     "output_type": "display_data"
    }
   ],
   "source": [
    "sns.histplot(weed_jan2015_summarized.HighQ, bins=range(0,500,10))"
   ]
  },
  {
   "attachments": {},
   "cell_type": "markdown",
   "metadata": {},
   "source": [
    "If we put our finger randomly on a map of USA and point to a state, the highest probability is that Weed price in that state will be above 340$ per ounce."
   ]
  },
  {
   "attachments": {},
   "cell_type": "markdown",
   "metadata": {},
   "source": [
    "### Lambda functions\n",
    "\n",
    "Lambda functions are small anonymous functions. A lambda function can take any number of arguments, but can only have one expression. Lambda functions are used together with built-in functions like `filter()`, `map()`, and `reduce()`. Examples:"
   ]
  },
  {
   "cell_type": "code",
   "execution_count": 106,
   "metadata": {},
   "outputs": [],
   "source": [
    "prices_df['month'] = prices_df.date.apply(lambda x: x.month)\n",
    "prices_df['year'] = prices_df.date.apply(lambda x: x.year)\n",
    "prices_df['high_med_diff'] = prices_df.apply(lambda x: x.HighQ - x.MedQ, axis=1)"
   ]
  },
  {
   "attachments": {},
   "cell_type": "markdown",
   "metadata": {},
   "source": [
    "#### <span style=\"color:red\">**TASK**</span>\n",
    "\n",
    "Using lambda functions, create new column called `HighQ_2015` that contains the values `yes` or `no` depending on whether the price in January 2015 was above or below 340$ per ounce."
   ]
  }
 ],
 "metadata": {
  "kernelspec": {
   "display_name": "Python 3",
   "language": "python",
   "name": "python3"
  },
  "language_info": {
   "codemirror_mode": {
    "name": "ipython",
    "version": 3
   },
   "file_extension": ".py",
   "mimetype": "text/x-python",
   "name": "python",
   "nbconvert_exporter": "python",
   "pygments_lexer": "ipython3",
   "version": "3.11.2"
  },
  "orig_nbformat": 4
 },
 "nbformat": 4,
 "nbformat_minor": 2
}
