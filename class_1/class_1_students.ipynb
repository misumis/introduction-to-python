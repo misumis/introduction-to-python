{
 "cells": [
  {
   "attachments": {},
   "cell_type": "markdown",
   "metadata": {},
   "source": [
    "# Class 1\n",
    "\n",
    "## Python\n",
    "---\n",
    "\n",
    "Python is a high-level, interpreted programming language that is widely used for various purposes, including web development, data science, and artificial intelligence. It is known for its readability, simplicity, and versatility. Here are some code snippets to give you a quick overview of Python:"
   ]
  },
  {
   "cell_type": "markdown",
   "metadata": {},
   "source": [
    "### Print a string"
   ]
  },
  {
   "cell_type": "code",
   "execution_count": null,
   "metadata": {},
   "outputs": [],
   "source": [
    "print(\"Hello World!\")"
   ]
  },
  {
   "cell_type": "markdown",
   "metadata": {},
   "source": [
    "or (only in Python Notebook)"
   ]
  },
  {
   "cell_type": "code",
   "execution_count": null,
   "metadata": {},
   "outputs": [],
   "source": [
    "\"Hello World!\""
   ]
  },
  {
   "cell_type": "markdown",
   "metadata": {},
   "source": [
    "### Variables"
   ]
  },
  {
   "cell_type": "code",
   "execution_count": 45,
   "metadata": {},
   "outputs": [
    {
     "name": "stdout",
     "output_type": "stream",
     "text": [
      "My name is John Doe\n",
      "My name is John Doe\n",
      "My username is John Doe\n"
     ]
    }
   ],
   "source": [
    "name = \"John Doe\"\n",
    "print(\"My name is\", name)\n",
    "print(f\"My name is {name}\")\n",
    "print(\"My username is {username}\".format(username=name))\n"
   ]
  },
  {
   "attachments": {},
   "cell_type": "markdown",
   "metadata": {},
   "source": [
    "You can learn more about type of the variable by using the `type()` function."
   ]
  },
  {
   "cell_type": "code",
   "execution_count": 1,
   "metadata": {},
   "outputs": [
    {
     "data": {
      "text/plain": [
       "str"
      ]
     },
     "execution_count": 1,
     "metadata": {},
     "output_type": "execute_result"
    }
   ],
   "source": [
    "type('Hello World!')"
   ]
  },
  {
   "cell_type": "code",
   "execution_count": 5,
   "metadata": {},
   "outputs": [
    {
     "data": {
      "text/plain": [
       "int"
      ]
     },
     "execution_count": 5,
     "metadata": {},
     "output_type": "execute_result"
    }
   ],
   "source": [
    "number = 5\n",
    "type(number)"
   ]
  },
  {
   "cell_type": "code",
   "execution_count": 4,
   "metadata": {},
   "outputs": [
    {
     "data": {
      "text/plain": [
       "float"
      ]
     },
     "execution_count": 4,
     "metadata": {},
     "output_type": "execute_result"
    }
   ],
   "source": [
    "flt = 5.0\n",
    "type(flt)"
   ]
  },
  {
   "cell_type": "code",
   "execution_count": 6,
   "metadata": {},
   "outputs": [
    {
     "data": {
      "text/plain": [
       "bool"
      ]
     },
     "execution_count": 6,
     "metadata": {},
     "output_type": "execute_result"
    }
   ],
   "source": [
    "boolean = True\n",
    "type(boolean)"
   ]
  },
  {
   "cell_type": "markdown",
   "metadata": {},
   "source": [
    "### Lists"
   ]
  },
  {
   "attachments": {},
   "cell_type": "markdown",
   "metadata": {},
   "source": [
    "In Python, a list is an ordered collection of values, which can be of any type, such as integers, strings, or even other lists. Lists are a built-in data structure in Python, and they are created using square brackets `[]` with each element separated by a comma. Lists are mutable, meaning you can add, remove or modify elements in a list after it is created.\n",
    "\n",
    "You can access individual elements of a list by their index, starting from 0 for the first element. You can also use negative indexing to access elements from the end of the list. Lists also support slicing, which allows you to extract a range of elements from the list.\n",
    "\n",
    "Lists are a fundamental data structure in Python, and they are used in many programming tasks. They are used to store and manipulate collections of data, such as in data analysis, web development, and machine learning. Because of their flexibility and versatility, lists are a powerful tool for working with collections of data in Python."
   ]
  },
  {
   "cell_type": "code",
   "execution_count": 47,
   "metadata": {},
   "outputs": [
    {
     "name": "stdout",
     "output_type": "stream",
     "text": [
      "The first fruit in the list is apple\n",
      "The last fruit in the list is cherry\n"
     ]
    }
   ],
   "source": [
    "fruits = ['apple', 'banana', 'cherry']\n",
    "print(\"The first fruit in the list is\", fruits[0])\n",
    "print(\"The last fruit in the list is\", fruits[-1])\n"
   ]
  },
  {
   "attachments": {},
   "cell_type": "markdown",
   "metadata": {},
   "source": [
    "Arrays in Python are called lists. You can create a list by using square brackets `[]` and separating the elements with commas. You can also create a list by using the `list()` function."
   ]
  },
  {
   "cell_type": "code",
   "execution_count": 28,
   "metadata": {},
   "outputs": [
    {
     "data": {
      "text/plain": [
       "[1, 2, 3, 4, 5]"
      ]
     },
     "execution_count": 28,
     "metadata": {},
     "output_type": "execute_result"
    }
   ],
   "source": [
    "array_of_numbers = list([1, 2, 3, 4, 5])\n",
    "array_of_numbers"
   ]
  },
  {
   "cell_type": "code",
   "execution_count": 32,
   "metadata": {},
   "outputs": [
    {
     "data": {
      "text/plain": [
       "[1, 2, 3]"
      ]
     },
     "execution_count": 32,
     "metadata": {},
     "output_type": "execute_result"
    }
   ],
   "source": [
    "array_of_arrays = [[1, 2, 3], [4, 5, 6], [7, 8, 9]]\n",
    "two_dimensional_array = array_of_arrays\n",
    "two_dimensional_array[0]"
   ]
  },
  {
   "attachments": {},
   "cell_type": "markdown",
   "metadata": {},
   "source": [
    "Unlike R, Python can have lists with different types of elements."
   ]
  },
  {
   "cell_type": "code",
   "execution_count": 17,
   "metadata": {},
   "outputs": [
    {
     "data": {
      "text/plain": [
       "[1, 2, 3, 'apple', 'banana', 'cherry']"
      ]
     },
     "execution_count": 17,
     "metadata": {},
     "output_type": "execute_result"
    }
   ],
   "source": [
    "array_of_different_types = [1, 2, 3, 'apple', 'banana', 'cherry']\n",
    "array_of_different_types"
   ]
  },
  {
   "attachments": {},
   "cell_type": "markdown",
   "metadata": {},
   "source": [
    "### Tuples"
   ]
  },
  {
   "attachments": {},
   "cell_type": "markdown",
   "metadata": {},
   "source": [
    "Tuples are more memory efficient than the lists. When it comes to the time efficiency, tuples have a slight advantage over the lists especially when we consider lookup value. If you have data that shouldn't change, you should choose tuple data type over lists."
   ]
  },
  {
   "cell_type": "code",
   "execution_count": 18,
   "metadata": {},
   "outputs": [
    {
     "data": {
      "text/plain": [
       "tuple"
      ]
     },
     "execution_count": 18,
     "metadata": {},
     "output_type": "execute_result"
    }
   ],
   "source": [
    "warsaw_coordinates = (52.2297, 21.0122)\n",
    "type(warsaw_coordinates)"
   ]
  },
  {
   "cell_type": "markdown",
   "metadata": {},
   "source": [
    "### Loops"
   ]
  },
  {
   "attachments": {},
   "cell_type": "markdown",
   "metadata": {},
   "source": [
    "There are several ways to iterate over a list in Python:\n",
    "\n",
    "Using a for loop:"
   ]
  },
  {
   "cell_type": "code",
   "execution_count": 33,
   "metadata": {},
   "outputs": [
    {
     "name": "stdout",
     "output_type": "stream",
     "text": [
      "1\n",
      "2\n",
      "3\n",
      "4\n",
      "5\n"
     ]
    }
   ],
   "source": [
    "my_list = [1, 2, 3, 4, 5]\n",
    "for item in my_list:\n",
    "    print(item)"
   ]
  },
  {
   "attachments": {},
   "cell_type": "markdown",
   "metadata": {},
   "source": [
    "Using a while loop and the list's length:"
   ]
  },
  {
   "cell_type": "code",
   "execution_count": 34,
   "metadata": {},
   "outputs": [
    {
     "name": "stdout",
     "output_type": "stream",
     "text": [
      "1\n",
      "2\n",
      "3\n",
      "4\n",
      "5\n"
     ]
    }
   ],
   "source": [
    "my_list = [1, 2, 3, 4, 5]\n",
    "i = 0\n",
    "while i < len(my_list):\n",
    "    print(my_list[i])\n",
    "    i += 1"
   ]
  },
  {
   "attachments": {},
   "cell_type": "markdown",
   "metadata": {},
   "source": [
    "Using list comprehension:"
   ]
  },
  {
   "cell_type": "code",
   "execution_count": 35,
   "metadata": {},
   "outputs": [
    {
     "name": "stdout",
     "output_type": "stream",
     "text": [
      "1\n",
      "2\n",
      "3\n",
      "4\n",
      "5\n"
     ]
    },
    {
     "data": {
      "text/plain": [
       "[None, None, None, None, None]"
      ]
     },
     "execution_count": 35,
     "metadata": {},
     "output_type": "execute_result"
    }
   ],
   "source": [
    "my_list = [1, 2, 3, 4, 5]\n",
    "[print(item) for item in my_list]\n"
   ]
  },
  {
   "attachments": {},
   "cell_type": "markdown",
   "metadata": {},
   "source": [
    "Using the built-in map() function:"
   ]
  },
  {
   "cell_type": "code",
   "execution_count": 38,
   "metadata": {},
   "outputs": [
    {
     "name": "stdout",
     "output_type": "stream",
     "text": [
      "1\n",
      "2\n",
      "3\n",
      "4\n",
      "5\n"
     ]
    },
    {
     "data": {
      "text/plain": [
       "[None, None, None, None, None]"
      ]
     },
     "execution_count": 38,
     "metadata": {},
     "output_type": "execute_result"
    }
   ],
   "source": [
    "my_list = [1, 2, 3, 4, 5]\n",
    "list(map(print, my_list))"
   ]
  },
  {
   "attachments": {},
   "cell_type": "markdown",
   "metadata": {},
   "source": [
    "### Sets\n",
    "\n",
    "In Python, a set is an unordered collection of unique elements. A set is defined using curly braces `{}` or the `set()` function. When you create a set, it automatically removes any duplicate elements, leaving only one copy of each unique value.\n",
    "\n",
    "You can add or remove elements from a set using the `add()` and `remove()` methods, respectively. You can also use the `union()` method to combine two sets into a new set, and the `intersection()` method to find the common elements between two sets.\n",
    "\n",
    "Here's an example of creating a set and performing some basic operations on it:"
   ]
  },
  {
   "cell_type": "code",
   "execution_count": 54,
   "metadata": {},
   "outputs": [
    {
     "name": "stdout",
     "output_type": "stream",
     "text": [
      "{'pear', 'kiwi', 'apple', 'orange'}\n",
      "{'pear', 'orange', 'kiwi', 'peach', 'watermelon', 'apple'}\n",
      "{'pear', 'orange', 'kiwi', 'apple'}\n"
     ]
    }
   ],
   "source": [
    "# create a set\n",
    "fruits = {'apple', 'banana', 'orange', 'kiwi'}\n",
    "\n",
    "# add an element to the set\n",
    "fruits.add('pear')\n",
    "\n",
    "# remove an element from the set\n",
    "fruits.remove('banana')\n",
    "\n",
    "# print the set\n",
    "print(fruits)\n",
    "\n",
    "# combine two sets into a new set\n",
    "more_fruits = {'peach', 'watermelon'}\n",
    "all_fruits = fruits.union(more_fruits)\n",
    "\n",
    "# find the common elements between two sets\n",
    "common_fruits = fruits.intersection(all_fruits)\n",
    "\n",
    "# print the new sets\n",
    "print(all_fruits)\n",
    "print(common_fruits)"
   ]
  },
  {
   "attachments": {},
   "cell_type": "markdown",
   "metadata": {},
   "source": [
    "In this example, we create a set called fruits and add some elements to it using the `add()` method. We then remove an element from the set using the `remove()` method. We print out the contents of the set using the `print()` function.\n",
    "\n",
    "We then create another set called more_fruits and use the `union()` method to combine it with the `fruits` set, creating a new set called `all_fruits`. Finally, we use the `intersection()` method to find the common elements between the `fruits` set and the `all_fruits` set, and print out the results.\n",
    "\n",
    "Sets are a useful data structure in Python, especially when dealing with collections of unique elements. They can be used to perform set operations such as union, intersection, and difference, and they are also useful for checking membership and removing duplicates from a list."
   ]
  },
  {
   "attachments": {},
   "cell_type": "markdown",
   "metadata": {},
   "source": [
    "### Dictionary\n",
    "\n",
    "In Python, a dictionary is an unordered collection of key-value pairs. Dictionaries are defined using curly braces `{}`, with each key-value pair separated by a colon `:`. You can also use the `dict()` function to create a dictionary.\n",
    "\n",
    "Dictionaries are useful for storing and accessing data using a key rather than an index. The keys in a dictionary must be unique and can be of any immutable type, such as a string or a number. The values in a dictionary can be of any type, including other dictionaries or lists.\n",
    "\n",
    "You can add or remove key-value pairs from a dictionary using the square bracket notation `[]`. You can also access the value associated with a key using the same square bracket notation. Additionally, you can use the `keys()`, `values()`, and `items()` methods to access the keys, values, and key-value pairs in a dictionary, respectively.\n",
    "\n",
    "Here's an example of creating a dictionary and performing some basic operations on it:"
   ]
  },
  {
   "cell_type": "code",
   "execution_count": 55,
   "metadata": {},
   "outputs": [
    {
     "name": "stdout",
     "output_type": "stream",
     "text": [
      "John\n",
      "dict_keys(['name', 'age', 'country'])\n",
      "dict_values(['John', 30, 'USA'])\n",
      "dict_items([('name', 'John'), ('age', 30), ('country', 'USA')])\n"
     ]
    }
   ],
   "source": [
    "# create a dictionary\n",
    "person = {'name': 'John', 'age': 30, 'city': 'New York'}\n",
    "\n",
    "# add a key-value pair to the dictionary\n",
    "person['country'] = 'USA'\n",
    "\n",
    "# remove a key-value pair from the dictionary\n",
    "del person['city']\n",
    "\n",
    "# print the value associated with a key\n",
    "print(person['name'])\n",
    "\n",
    "# print the keys and values in the dictionary\n",
    "print(person.keys())\n",
    "print(person.values())\n",
    "\n",
    "# print the key-value pairs in the dictionary\n",
    "print(person.items())\n"
   ]
  },
  {
   "attachments": {},
   "cell_type": "markdown",
   "metadata": {},
   "source": [
    "In this example, we create a dictionary called `person` with three key-value pairs. We then add a new key-value pair to the dictionary using the square bracket notation. We remove a key-value pair from the dictionary using the `del` statement.\n",
    "\n",
    "We then print out the value associated with the `'name'` key using the square bracket notation. We print out the keys and values in the dictionary using the `keys()` and `values()` methods, respectively. Finally, we print out the key-value pairs in the dictionary using the `items()` method.\n",
    "\n",
    "Dictionaries are a powerful data structure in Python and are widely used in many applications. They are useful for storing and accessing data using a key rather than an index, which can make code more readable and efficient. They are also useful for representing complex data structures, such as JSON data, and are commonly used in web development and data science applications."
   ]
  },
  {
   "cell_type": "markdown",
   "metadata": {},
   "source": [
    "### Functions"
   ]
  },
  {
   "attachments": {},
   "cell_type": "markdown",
   "metadata": {},
   "source": [
    "In Python, a function is a block of reusable code that performs a specific task. Functions can take input arguments and return output values.\n",
    "\n",
    "To define a function, you use the def keyword followed by the function name and its input parameters in parentheses. The function body is indented after a colon, and the return keyword is used to specify the function's output.\n",
    "\n",
    "Here's an example of a function that takes two input arguments and returns their sum:"
   ]
  },
  {
   "cell_type": "code",
   "execution_count": 39,
   "metadata": {},
   "outputs": [],
   "source": [
    "def add_numbers(a, b):\n",
    "    return a + b"
   ]
  },
  {
   "attachments": {},
   "cell_type": "markdown",
   "metadata": {},
   "source": [
    "To use the function, you call it by its name and pass in the input arguments:"
   ]
  },
  {
   "cell_type": "code",
   "execution_count": 40,
   "metadata": {},
   "outputs": [
    {
     "name": "stdout",
     "output_type": "stream",
     "text": [
      "5\n"
     ]
    }
   ],
   "source": [
    "result = add_numbers(2, 3)\n",
    "print(result)"
   ]
  },
  {
   "attachments": {},
   "cell_type": "markdown",
   "metadata": {},
   "source": [
    "Functions are an important part of Python because they allow you to organize your code into reusable, modular pieces. Functions can be called from other functions, making it easier to build complex programs.\n",
    "\n",
    "Using functions also helps to improve code readability and maintainability, as the logic of the program can be separated into smaller, more manageable pieces. By using functions, you can avoid repeating the same code multiple times throughout your program, making your code more efficient and easier to debug"
   ]
  },
  {
   "attachments": {},
   "cell_type": "markdown",
   "metadata": {},
   "source": [
    "### <span style=\"color:red\">**TASK 1**</span>\n",
    "\n",
    "Write a function named `greet_user()` that takes a person's name as an argument and prints a personalized greeting to that person. The function should print a message like \"Hello, John! Welcome back.\" for a person with the name \"John\"."
   ]
  },
  {
   "cell_type": "code",
   "execution_count": 48,
   "metadata": {},
   "outputs": [],
   "source": [
    "# Code goes here"
   ]
  },
  {
   "cell_type": "markdown",
   "metadata": {},
   "source": [
    "### Conditionals"
   ]
  },
  {
   "attachments": {},
   "cell_type": "markdown",
   "metadata": {},
   "source": [
    "In Python, conditionals are used to execute different code blocks based on certain conditions. There are two main conditional statements in Python: if and else. The if statement is used to execute a block of code if a condition is true, while the else statement is used to execute a block of code if the condition is false.\n",
    "\n",
    "Here is an example of using an if statement to check if a number is greater than 10:"
   ]
  },
  {
   "cell_type": "code",
   "execution_count": 50,
   "metadata": {},
   "outputs": [
    {
     "name": "stdout",
     "output_type": "stream",
     "text": [
      "x is greater than 10\n"
     ]
    }
   ],
   "source": [
    "x = 15\n",
    "if x > 10:\n",
    "    print(\"x is greater than 10\")"
   ]
  },
  {
   "attachments": {},
   "cell_type": "markdown",
   "metadata": {},
   "source": [
    "In this example, the code inside the if block will only be executed if the value of x is greater than 10.\n",
    "\n",
    "You can also use the else statement to execute a block of code if the condition is false:"
   ]
  },
  {
   "cell_type": "code",
   "execution_count": 51,
   "metadata": {},
   "outputs": [
    {
     "name": "stdout",
     "output_type": "stream",
     "text": [
      "x is less than or equal to 10\n"
     ]
    }
   ],
   "source": [
    "x = 5\n",
    "if x > 10:\n",
    "    print(\"x is greater than 10\")\n",
    "else:\n",
    "    print(\"x is less than or equal to 10\")"
   ]
  },
  {
   "attachments": {},
   "cell_type": "markdown",
   "metadata": {},
   "source": [
    "In this example, the code inside the else block will be executed because the value of x is less than or equal to 10.\n",
    "\n",
    "You can also use the elif statement to check multiple conditions:"
   ]
  },
  {
   "cell_type": "code",
   "execution_count": 52,
   "metadata": {},
   "outputs": [
    {
     "name": "stdout",
     "output_type": "stream",
     "text": [
      "x is between 5 and 10\n"
     ]
    }
   ],
   "source": [
    "x = 7\n",
    "if x > 10:\n",
    "    print(\"x is greater than 10\")\n",
    "elif x > 5:\n",
    "    print(\"x is between 5 and 10\")\n",
    "else:\n",
    "    print(\"x is less than or equal to 5\")\n"
   ]
  },
  {
   "attachments": {},
   "cell_type": "markdown",
   "metadata": {},
   "source": [
    "In this example, the first condition is false, so the code inside the elif block is executed because the value of x is between 5 and 10.\n",
    "\n",
    "Conditionals are an essential part of programming, as they allow you to create flexible and dynamic code that can respond to changing conditions. By using conditionals in Python, you can create powerful programs that can make decisions and take action based on the data they receive."
   ]
  },
  {
   "cell_type": "markdown",
   "metadata": {},
   "source": []
  },
  {
   "attachments": {},
   "cell_type": "markdown",
   "metadata": {},
   "source": [
    "### <span style=\"color:red\">**TASK 2**</span>\n",
    "\n",
    "Write a function named `get_fibonacci_list()` that takes a number as an argument and returns a list of Fibonacci numbers up to that number. \n",
    "\n",
    "The Fibonacci sequence is a sequence of numbers where each number is the sum of the previous two numbers. The first two numbers in the sequence are 0 and 1. For example, the first 10 numbers in the Fibonacci sequence are: 0, 1, 1, 2, 3, 5, 8, 13, 21, 34."
   ]
  },
  {
   "cell_type": "code",
   "execution_count": 56,
   "metadata": {},
   "outputs": [
    {
     "name": "stdout",
     "output_type": "stream",
     "text": [
      "[0, 1]\n"
     ]
    }
   ],
   "source": [
    "def get_fibonacci_list(n):\n",
    "    fibonacci_list = [0, 1]\n",
    "    # Code goes here\n",
    "    return fibonacci_list\n",
    "  \n",
    "fibo = get_fibonacci_list(10)\n",
    "\n",
    "print(fibo)"
   ]
  },
  {
   "cell_type": "code",
   "execution_count": null,
   "metadata": {},
   "outputs": [],
   "source": []
  }
 ],
 "metadata": {
  "kernelspec": {
   "display_name": "Python 3",
   "language": "python",
   "name": "python3"
  },
  "language_info": {
   "codemirror_mode": {
    "name": "ipython",
    "version": 3
   },
   "file_extension": ".py",
   "mimetype": "text/x-python",
   "name": "python",
   "nbconvert_exporter": "python",
   "pygments_lexer": "ipython3",
   "version": "3.10.8"
  },
  "orig_nbformat": 4,
  "vscode": {
   "interpreter": {
    "hash": "aee8b7b246df8f9039afb4144a1f6fd8d2ca17a180786b69acc140d282b71a49"
   }
  }
 },
 "nbformat": 4,
 "nbformat_minor": 2
}
