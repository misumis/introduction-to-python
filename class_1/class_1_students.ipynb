{
 "cells": [
  {
   "attachments": {},
   "cell_type": "markdown",
   "metadata": {},
   "source": [
    "# <div style=\"text-align: center\"> Introduction to Python\n",
    "\n",
    "## <div style=\"text-align: center\">Introduction to Python (I)"
   ]
  },
  {
   "attachments": {},
   "cell_type": "markdown",
   "metadata": {},
   "source": [
    "## Python\n",
    "---\n",
    "\n",
    "Python is a high-level, interpreted programming language that is widely used for various purposes, including web development, data science, and artificial intelligence. It is known for its readability, simplicity, and versatility. Here are some code snippets to give you a quick overview of Python:"
   ]
  },
  {
   "attachments": {},
   "cell_type": "markdown",
   "metadata": {},
   "source": [
    "## Useful notebook keyboard shortcuts:\n",
    "* <kbd>Ctrl</kbd> + <kbd>Enter</kbd> - executes the cell\n",
    "* <kbd>⌘</kbd> + <kbd>Enter</kbd> - executes the cell and creates a new cell below (Mac)\n",
    "* <kbd>Shift</kbd> + <kbd>Enter</kbd> - executes the cell and moves to the next cell\n",
    "* <kbd>c</kbd> - copies a cell\n",
    "* <kbd>v</kbd> - pastes the cell below the highlighted cell\n",
    "* pressing <kbd>d</kbd> twice - deleting the highlighted cell"
   ]
  },
  {
   "cell_type": "markdown",
   "metadata": {},
   "source": [
    "### Print a string"
   ]
  },
  {
   "cell_type": "code",
   "execution_count": null,
   "metadata": {},
   "outputs": [],
   "source": [
    "print(\"Hello World!\")"
   ]
  },
  {
   "cell_type": "code",
   "execution_count": null,
   "metadata": {},
   "outputs": [],
   "source": [
    "# this will not work. Python is looking for the ending apostrophe in the same line\n",
    "print(\"Hello\n",
    "I'm here\")"
   ]
  },
  {
   "cell_type": "code",
   "execution_count": null,
   "metadata": {},
   "outputs": [],
   "source": [
    "# this WILL work!\n",
    "print(\"\"\"Hello\n",
    "I'm here\"\"\")\n"
   ]
  },
  {
   "cell_type": "code",
   "execution_count": null,
   "metadata": {},
   "outputs": [],
   "source": [
    "print(\"Hello\\nI'm here\")"
   ]
  },
  {
   "cell_type": "code",
   "execution_count": null,
   "metadata": {},
   "outputs": [],
   "source": [
    "print(\"It's\",\"me,\", \"hey\")"
   ]
  },
  {
   "cell_type": "markdown",
   "metadata": {},
   "source": [
    "or (only in Python Notebook)"
   ]
  },
  {
   "cell_type": "code",
   "execution_count": null,
   "metadata": {},
   "outputs": [],
   "source": [
    "\"Hello World!\""
   ]
  },
  {
   "cell_type": "markdown",
   "metadata": {},
   "source": [
    "### Variables"
   ]
  },
  {
   "cell_type": "code",
   "execution_count": null,
   "metadata": {},
   "outputs": [],
   "source": [
    "name = \"John Doe\"\n",
    "print(\"My name is\", name)\n",
    "print(f\"My name is {name}\")\n",
    "print(\"My username is {username}\".format(username=name))\n"
   ]
  },
  {
   "cell_type": "code",
   "execution_count": null,
   "metadata": {},
   "outputs": [],
   "source": [
    "x = 5\n",
    "x"
   ]
  },
  {
   "cell_type": "code",
   "execution_count": null,
   "metadata": {},
   "outputs": [],
   "source": [
    "y = 5.0\n",
    "y"
   ]
  },
  {
   "cell_type": "code",
   "execution_count": null,
   "metadata": {},
   "outputs": [],
   "source": [
    "z = \"Hi!\""
   ]
  },
  {
   "cell_type": "code",
   "execution_count": null,
   "metadata": {},
   "outputs": [],
   "source": [
    "y + z"
   ]
  },
  {
   "cell_type": "markdown",
   "metadata": {},
   "source": [
    "### Mathematical operators (and importing libraries)"
   ]
  },
  {
   "cell_type": "markdown",
   "metadata": {},
   "source": [
    "| Symbol | Meaning |\n",
    "| ---- | --- |\n",
    "| + | addition |\n",
    "| - | subtraction |\n",
    "| / | division |\n",
    "| % | modulo (remainder of division) |\n",
    "| * | multiplication |\n",
    "| ** | exponentiation |\n",
    "| math.sqrt (x) | root of x |"
   ]
  },
  {
   "cell_type": "code",
   "execution_count": null,
   "metadata": {},
   "outputs": [],
   "source": [
    "import math\n",
    "math.sqrt(6)"
   ]
  },
  {
   "attachments": {},
   "cell_type": "markdown",
   "metadata": {},
   "source": [
    "In order to explore a library, you write its imported name, then period, and then press <kbd>CTRL</kbd> + <kbd>Space</kbd>, e.g., `math.` + <kbd>CTRL</kbd> + <kbd>Space</kbd>\n",
    "\n",
    "It is possible to explore internals of the library by clicking on the name of the library by , e.g., hover over `math`, hold <kbd>CTRL</kbd> or <kbd>⌘</kbd> and click on the name of the library."
   ]
  },
  {
   "cell_type": "code",
   "execution_count": null,
   "metadata": {},
   "outputs": [],
   "source": [
    "math."
   ]
  },
  {
   "attachments": {},
   "cell_type": "markdown",
   "metadata": {},
   "source": [
    "You can count reminder by using `%` operator, e.g., `5 % 2` will return `1` as a reminder of division `5` by `2`."
   ]
  },
  {
   "cell_type": "code",
   "execution_count": null,
   "metadata": {},
   "outputs": [],
   "source": [
    "135 % 10"
   ]
  },
  {
   "attachments": {},
   "cell_type": "markdown",
   "metadata": {},
   "source": [
    "### Types"
   ]
  },
  {
   "attachments": {},
   "cell_type": "markdown",
   "metadata": {},
   "source": [
    "You can learn more about type of the variable by using the `type()` function."
   ]
  },
  {
   "cell_type": "code",
   "execution_count": null,
   "metadata": {},
   "outputs": [],
   "source": [
    "type('Hello World!')"
   ]
  },
  {
   "cell_type": "code",
   "execution_count": null,
   "metadata": {},
   "outputs": [],
   "source": [
    "number = 5\n",
    "type(number)"
   ]
  },
  {
   "cell_type": "code",
   "execution_count": null,
   "metadata": {},
   "outputs": [],
   "source": [
    "flt = 5.0\n",
    "type(flt)"
   ]
  },
  {
   "cell_type": "code",
   "execution_count": null,
   "metadata": {},
   "outputs": [],
   "source": [
    "boolean = True\n",
    "type(boolean)"
   ]
  },
  {
   "attachments": {},
   "cell_type": "markdown",
   "metadata": {},
   "source": [
    "### Variable casting\n",
    "\n",
    "In Python, variable casting refers to the process of changing the data type of a variable from one type to another. This is often necessary when performing operations or functions that require a certain data type.\n",
    "\n",
    "Python provides several built-in functions for variable casting, including `int()`, `float()`, `str()`, `bool()`, `list()`, `tuple()`, `set()`, and `dict()`. These functions take a single argument and return a value of the specified data type.\n",
    "\n",
    "For example, if you have a string variable that contains a number, you can use the `int()` function to convert it to an integer:"
   ]
  },
  {
   "cell_type": "code",
   "execution_count": null,
   "metadata": {},
   "outputs": [],
   "source": [
    "x = '123'\n",
    "print(type(x))\n",
    "y = int(x)\n",
    "print(type(y))"
   ]
  },
  {
   "cell_type": "code",
   "execution_count": null,
   "metadata": {},
   "outputs": [],
   "source": [
    "x = 123\n",
    "y = str(x)\n",
    "y"
   ]
  },
  {
   "cell_type": "code",
   "execution_count": null,
   "metadata": {},
   "outputs": [],
   "source": [
    "x = [1, 2, 3]\n",
    "y = tuple(x)\n",
    "z = set(x)\n",
    "print(y)\n",
    "print(z)\n"
   ]
  },
  {
   "attachments": {},
   "cell_type": "markdown",
   "metadata": {},
   "source": [
    "When casting variables, it's important to keep in mind that some data types are not compatible with others. For example, you cannot convert a string that contains letters to an integer using the int() function. In such cases, you may need to use additional functions or methods to manipulate the data before casting it to the desired type."
   ]
  },
  {
   "cell_type": "code",
   "execution_count": null,
   "metadata": {},
   "outputs": [],
   "source": [
    "int(\"I'll return error!\")"
   ]
  },
  {
   "attachments": {},
   "cell_type": "markdown",
   "metadata": {},
   "source": [
    "### <span style=\"color:red\">**TASK**</span>\n",
    "\n",
    "Convert 4.6 to an integer."
   ]
  },
  {
   "cell_type": "code",
   "execution_count": null,
   "metadata": {},
   "outputs": [],
   "source": [
    "# Code goes here"
   ]
  },
  {
   "cell_type": "code",
   "execution_count": null,
   "metadata": {},
   "outputs": [],
   "source": [
    "# we can round the variables (below we are rounding to two decimal places):\n",
    "round(2.137, 2)"
   ]
  },
  {
   "attachments": {},
   "cell_type": "markdown",
   "metadata": {},
   "source": [
    "### User Input"
   ]
  },
  {
   "cell_type": "code",
   "execution_count": null,
   "metadata": {},
   "outputs": [],
   "source": [
    "input('Please write something: ')"
   ]
  },
  {
   "cell_type": "code",
   "execution_count": null,
   "metadata": {},
   "outputs": [],
   "source": [
    "xyz = input('let me save that in the variable xyz: ')"
   ]
  },
  {
   "cell_type": "code",
   "execution_count": null,
   "metadata": {},
   "outputs": [],
   "source": [
    "xyz"
   ]
  },
  {
   "attachments": {},
   "cell_type": "markdown",
   "metadata": {},
   "source": [
    "### <span style=\"color:red\">**TASK**</span>\n",
    "\n",
    "Write a program that asks the user for their name and age, and then prints a message that tells them personalized message of the year that they will turn 100 years old."
   ]
  },
  {
   "cell_type": "code",
   "execution_count": null,
   "metadata": {},
   "outputs": [],
   "source": [
    "name = input(\"What is your name? \")\n",
    "age = int(input(\"How old are you? \"))\n",
    "\n",
    "years_until_100 = 100 - age\n",
    "year_of_100th_birthday = 2023 + years_until_100\n",
    "\n",
    "message = \"Hello, \" + name + \"! You will turn 100 years old in the year \" + str(year_of_100th_birthday) + \".\"\n",
    "print(message)"
   ]
  },
  {
   "cell_type": "markdown",
   "metadata": {},
   "source": [
    "### Lists"
   ]
  },
  {
   "attachments": {},
   "cell_type": "markdown",
   "metadata": {},
   "source": [
    "In Python, a list is an ordered collection of values, which can be of any type, such as integers, strings, or even other lists. Lists are a built-in data structure in Python, and they are created using square brackets `[]` with each element separated by a comma. Lists are mutable, meaning you can add, remove or modify elements in a list after it is created.\n",
    "\n",
    "You can access individual elements of a list by their index, starting from 0 for the first element. You can also use negative indexing to access elements from the end of the list. Lists also support slicing, which allows you to extract a range of elements from the list.\n",
    "\n",
    "Lists are a fundamental data structure in Python, and they are used in many programming tasks. They are used to store and manipulate collections of data, such as in data analysis, web development, and machine learning. Because of their flexibility and versatility, lists are a powerful tool for working with collections of data in Python."
   ]
  },
  {
   "cell_type": "markdown",
   "metadata": {},
   "source": [
    "![logo](https://static.javatpoint.com/python/images/lists-indexing-and-splitting.png)"
   ]
  },
  {
   "cell_type": "code",
   "execution_count": null,
   "metadata": {},
   "outputs": [],
   "source": [
    "fruits = ['apple', 'banana', 'cherry']\n",
    "print(\"The first fruit in the list is\", fruits[0])\n",
    "print(\"The last fruit in the list is\", fruits[-1])\n"
   ]
  },
  {
   "attachments": {},
   "cell_type": "markdown",
   "metadata": {},
   "source": [
    "Arrays in Python are called lists. You can create a list by using square brackets `[]` and separating the elements with commas. You can also create a list by using the `list()` function."
   ]
  },
  {
   "cell_type": "code",
   "execution_count": null,
   "metadata": {},
   "outputs": [],
   "source": [
    "array_of_numbers = list([1, 2, 3, 4, 5])\n",
    "array_of_numbers"
   ]
  },
  {
   "cell_type": "code",
   "execution_count": null,
   "metadata": {},
   "outputs": [],
   "source": [
    "array_of_numbers[1:3]"
   ]
  },
  {
   "cell_type": "code",
   "execution_count": null,
   "metadata": {},
   "outputs": [],
   "source": [
    "array_of_numbers[1:]"
   ]
  },
  {
   "cell_type": "code",
   "execution_count": null,
   "metadata": {},
   "outputs": [],
   "source": [
    "array_of_numbers[:4]"
   ]
  },
  {
   "cell_type": "code",
   "execution_count": null,
   "metadata": {},
   "outputs": [],
   "source": [
    "array_of_numbers[0:5:2]"
   ]
  },
  {
   "cell_type": "code",
   "execution_count": null,
   "metadata": {},
   "outputs": [],
   "source": [
    "array_of_arrays = [[1, 2, 3], [4, 5, 6], [7, 8, 9]]\n",
    "two_dimensional_array = array_of_arrays\n",
    "two_dimensional_array[0]"
   ]
  },
  {
   "attachments": {},
   "cell_type": "markdown",
   "metadata": {},
   "source": [
    "Unlike R, Python can have lists with different types of elements."
   ]
  },
  {
   "cell_type": "code",
   "execution_count": null,
   "metadata": {},
   "outputs": [],
   "source": [
    "array_of_different_types = [1, 2, 3, 'apple', 'banana', 'cherry']\n",
    "array_of_different_types"
   ]
  },
  {
   "attachments": {},
   "cell_type": "markdown",
   "metadata": {},
   "source": [
    "### <span style=\"color:red\">**TASK**</span>\n",
    "\n",
    "Write two ways to access kiwi from the list."
   ]
  },
  {
   "cell_type": "code",
   "execution_count": null,
   "metadata": {},
   "outputs": [],
   "source": [
    "fruits = [\"apple\", \"banana\", \"orange\", \"kiwi\", \"grape\"]\n",
    "\n",
    "# Code goes here"
   ]
  },
  {
   "cell_type": "markdown",
   "metadata": {},
   "source": [
    "The sense of slicing is: <br>\n",
    "`some_list[beginning:end]` (the `end` value is not included!)<br>\n",
    "or<br>\n",
    "`some_list[beginning:end:step]`"
   ]
  },
  {
   "attachments": {},
   "cell_type": "markdown",
   "metadata": {},
   "source": [
    "### <span style=\"color:red\">**TASK**</span>\n",
    "\n",
    "Write a query that will give you elements from the beginning to the 8th element, with a step of every 3rd element, from the list `num`."
   ]
  },
  {
   "cell_type": "code",
   "execution_count": null,
   "metadata": {},
   "outputs": [],
   "source": [
    "num = [1, 2, 3, 4, 5, 6, 7, 8, 9, 10]\n",
    "# Code goes here"
   ]
  },
  {
   "cell_type": "markdown",
   "metadata": {},
   "source": [
    "#### Generating lists of numbers using the `range()` function"
   ]
  },
  {
   "cell_type": "code",
   "execution_count": null,
   "metadata": {},
   "outputs": [],
   "source": [
    "range(3)"
   ]
  },
  {
   "cell_type": "code",
   "execution_count": null,
   "metadata": {},
   "outputs": [],
   "source": [
    "x = list(range(4))\n",
    "x"
   ]
  },
  {
   "cell_type": "code",
   "execution_count": null,
   "metadata": {},
   "outputs": [],
   "source": [
    "print(list(range(3)))\n",
    "print(list(range(2,9)))\n",
    "print(list(range(2,27,8)))"
   ]
  },
  {
   "cell_type": "markdown",
   "metadata": {},
   "source": [
    "The sense of `range` is: <br>\n",
    "`range(end)` (the `end` value is not included, and in Python we start counting from 0!)<br>\n",
    "or<br>\n",
    "`range(beginning,end)`<br>\n",
    "or<br>\n",
    "`some_list(beginning,end,step)`"
   ]
  },
  {
   "cell_type": "markdown",
   "metadata": {},
   "source": [
    "### Important basic functions:\n",
    "- `len()` - the length of the list\n",
    "- `max()` - the largest value of the list\n",
    "- `min()` - the lowest value of the list"
   ]
  },
  {
   "cell_type": "code",
   "execution_count": null,
   "metadata": {},
   "outputs": [],
   "source": [
    "min(range(2,27,8))"
   ]
  },
  {
   "cell_type": "code",
   "execution_count": null,
   "metadata": {},
   "outputs": [],
   "source": [
    "# We can add lists (this is called concatenation):\n",
    "[1,2,3] + [5,4,7]"
   ]
  },
  {
   "cell_type": "markdown",
   "metadata": {},
   "source": [
    "#### Checking if the item is on the list"
   ]
  },
  {
   "cell_type": "code",
   "execution_count": null,
   "metadata": {},
   "outputs": [],
   "source": [
    "names = ['Earth','Air','Fire','Water']"
   ]
  },
  {
   "cell_type": "code",
   "execution_count": null,
   "metadata": {},
   "outputs": [],
   "source": [
    "names"
   ]
  },
  {
   "cell_type": "code",
   "execution_count": null,
   "metadata": {},
   "outputs": [],
   "source": [
    "'Fire' in names"
   ]
  },
  {
   "cell_type": "code",
   "execution_count": null,
   "metadata": {},
   "outputs": [],
   "source": [
    "2 in [1, 2, 3]"
   ]
  },
  {
   "cell_type": "code",
   "execution_count": null,
   "metadata": {},
   "outputs": [],
   "source": [
    "'Ectoplasm' in names"
   ]
  },
  {
   "cell_type": "markdown",
   "metadata": {},
   "source": [
    "#### What will appear in the list below, what elements?"
   ]
  },
  {
   "cell_type": "code",
   "execution_count": null,
   "metadata": {},
   "outputs": [],
   "source": [
    "str_to_list = list('hello')\n",
    "str_to_list"
   ]
  },
  {
   "cell_type": "code",
   "execution_count": null,
   "metadata": {},
   "outputs": [],
   "source": [
    "str_to_list[4]"
   ]
  },
  {
   "cell_type": "code",
   "execution_count": null,
   "metadata": {},
   "outputs": [],
   "source": [
    "del str_to_list[4]"
   ]
  },
  {
   "cell_type": "code",
   "execution_count": null,
   "metadata": {},
   "outputs": [],
   "source": [
    "str_to_list"
   ]
  },
  {
   "cell_type": "code",
   "execution_count": null,
   "metadata": {},
   "outputs": [],
   "source": [
    "str_to_list[1] = 3"
   ]
  },
  {
   "cell_type": "code",
   "execution_count": null,
   "metadata": {},
   "outputs": [],
   "source": [
    "str_to_list"
   ]
  },
  {
   "cell_type": "code",
   "execution_count": null,
   "metadata": {},
   "outputs": [],
   "source": [
    "str_to_list[1] = 3"
   ]
  },
  {
   "cell_type": "code",
   "execution_count": null,
   "metadata": {},
   "outputs": [],
   "source": [
    "str_to_list"
   ]
  },
  {
   "cell_type": "markdown",
   "metadata": {},
   "source": [
    "We can add an element to the list using the function `append()`"
   ]
  },
  {
   "cell_type": "code",
   "execution_count": null,
   "metadata": {},
   "outputs": [],
   "source": [
    "num_list = [1,1,4,8,7]"
   ]
  },
  {
   "cell_type": "code",
   "execution_count": null,
   "metadata": {},
   "outputs": [],
   "source": [
    "num_list.append(222)\n",
    "print(num_list)"
   ]
  },
  {
   "cell_type": "code",
   "execution_count": null,
   "metadata": {},
   "outputs": [],
   "source": [
    "num_list.append(4)\n",
    "print(num_list)"
   ]
  },
  {
   "cell_type": "code",
   "execution_count": null,
   "metadata": {},
   "outputs": [],
   "source": [
    "num_list.append(str_to_list)\n",
    "num_list"
   ]
  },
  {
   "cell_type": "markdown",
   "metadata": {},
   "source": [
    "The above list has been nested. We can avoid this for example by using the `extend()` function"
   ]
  },
  {
   "cell_type": "code",
   "execution_count": null,
   "metadata": {},
   "outputs": [],
   "source": [
    "lst = [1,1,4,8,7]\n",
    "lst.extend(str_to_list)\n",
    "lst"
   ]
  },
  {
   "cell_type": "markdown",
   "metadata": {},
   "source": [
    "Deleting a specific number / expression: the `remove()` method"
   ]
  },
  {
   "cell_type": "code",
   "execution_count": null,
   "metadata": {},
   "outputs": [],
   "source": [
    "lst.remove('h')\n",
    "lst"
   ]
  },
  {
   "cell_type": "code",
   "execution_count": null,
   "metadata": {},
   "outputs": [],
   "source": [
    "lst.remove(3)\n",
    "lst"
   ]
  },
  {
   "cell_type": "markdown",
   "metadata": {},
   "source": [
    "Deleting an item by addressing it: the `del` function"
   ]
  },
  {
   "cell_type": "code",
   "execution_count": null,
   "metadata": {},
   "outputs": [],
   "source": [
    "del lst[-1]\n",
    "lst"
   ]
  },
  {
   "cell_type": "code",
   "execution_count": null,
   "metadata": {},
   "outputs": [],
   "source": [
    "del lst[2]\n",
    "lst"
   ]
  },
  {
   "attachments": {},
   "cell_type": "markdown",
   "metadata": {},
   "source": [
    "### Tuples"
   ]
  },
  {
   "attachments": {},
   "cell_type": "markdown",
   "metadata": {},
   "source": [
    "Tuples are more memory efficient than the lists. When it comes to the time efficiency, tuples have a slight advantage over the lists especially when we consider lookup value. If you have data that shouldn't change, you should choose tuple data type over lists."
   ]
  },
  {
   "cell_type": "code",
   "execution_count": null,
   "metadata": {},
   "outputs": [],
   "source": [
    "warsaw_coordinates = (52.2297, 21.0122)\n",
    "type(warsaw_coordinates)"
   ]
  },
  {
   "attachments": {},
   "cell_type": "markdown",
   "metadata": {},
   "source": [
    "### Sets\n",
    "\n",
    "In Python, a set is an unordered collection of unique elements. A set is defined using curly braces `{}` or the `set()` function. When you create a set, it automatically removes any duplicate elements, leaving only one copy of each unique value.\n",
    "\n",
    "You can add or remove elements from a set using the `add()` and `remove()` methods, respectively. You can also use the `union()` method to combine two sets into a new set, and the `intersection()` method to find the common elements between two sets.\n",
    "\n",
    "Here's an example of creating a set and performing some basic operations on it:"
   ]
  },
  {
   "cell_type": "code",
   "execution_count": null,
   "metadata": {},
   "outputs": [],
   "source": [
    "# create a set\n",
    "fruits = {'apple', 'banana', 'orange', 'kiwi'}\n",
    "\n",
    "# add an element to the set\n",
    "fruits.add('pear')\n",
    "\n",
    "# remove an element from the set\n",
    "fruits.remove('banana')\n",
    "\n",
    "# print the set\n",
    "print(fruits)\n",
    "\n",
    "# combine two sets into a new set\n",
    "more_fruits = {'peach', 'watermelon'}\n",
    "all_fruits = fruits.union(more_fruits)\n",
    "\n",
    "# find the common elements between two sets\n",
    "common_fruits = fruits.intersection(all_fruits)\n",
    "\n",
    "# print the new sets\n",
    "print(all_fruits)\n",
    "print(common_fruits)"
   ]
  },
  {
   "attachments": {},
   "cell_type": "markdown",
   "metadata": {},
   "source": [
    "In this example, we create a set called fruits and add some elements to it using the `add()` method. We then remove an element from the set using the `remove()` method. We print out the contents of the set using the `print()` function.\n",
    "\n",
    "We then create another set called more_fruits and use the `union()` method to combine it with the `fruits` set, creating a new set called `all_fruits`. Finally, we use the `intersection()` method to find the common elements between the `fruits` set and the `all_fruits` set, and print out the results.\n",
    "\n",
    "Sets are a useful data structure in Python, especially when dealing with collections of unique elements. They can be used to perform set operations such as union, intersection, and difference, and they are also useful for checking membership and removing duplicates from a list."
   ]
  },
  {
   "attachments": {},
   "cell_type": "markdown",
   "metadata": {},
   "source": [
    "### Dictionary\n",
    "\n",
    "In Python, a dictionary is an unordered collection of key-value pairs. Dictionaries are defined using curly braces `{}`, with each key-value pair separated by a colon `:`. You can also use the `dict()` function to create a dictionary.\n",
    "\n",
    "Dictionaries are useful for storing and accessing data using a key rather than an index. The keys in a dictionary must be unique and can be of any immutable type, such as a string or a number. The values in a dictionary can be of any type, including other dictionaries or lists.\n",
    "\n",
    "You can add or remove key-value pairs from a dictionary using the square bracket notation `[]`. You can also access the value associated with a key using the same square bracket notation. Additionally, you can use the `keys()`, `values()`, and `items()` methods to access the keys, values, and key-value pairs in a dictionary, respectively.\n",
    "\n",
    "Here's an example of creating a dictionary and performing some basic operations on it:"
   ]
  },
  {
   "cell_type": "code",
   "execution_count": null,
   "metadata": {},
   "outputs": [],
   "source": [
    "# create a dictionary\n",
    "person = {'name': 'John', 'age': 30, 'city': 'New York'}\n",
    "\n",
    "# add a key-value pair to the dictionary\n",
    "person['country'] = 'USA'\n",
    "\n",
    "# remove a key-value pair from the dictionary\n",
    "del person['city']\n",
    "\n",
    "# print the value associated with a key\n",
    "print(person['name'])\n",
    "\n",
    "# print the keys and values in the dictionary\n",
    "print(person.keys())\n",
    "print(person.values())\n",
    "\n",
    "# print the key-value pairs in the dictionary\n",
    "print(person.items())\n"
   ]
  },
  {
   "attachments": {},
   "cell_type": "markdown",
   "metadata": {},
   "source": [
    "In this example, we create a dictionary called `person` with three key-value pairs. We then add a new key-value pair to the dictionary using the square bracket notation. We remove a key-value pair from the dictionary using the `del` statement.\n",
    "\n",
    "We then print out the value associated with the `'name'` key using the square bracket notation. We print out the keys and values in the dictionary using the `keys()` and `values()` methods, respectively. Finally, we print out the key-value pairs in the dictionary using the `items()` method.\n",
    "\n",
    "Dictionaries are a powerful data structure in Python and are widely used in many applications. They are useful for storing and accessing data using a key rather than an index, which can make code more readable and efficient. They are also useful for representing complex data structures, such as JSON data, and are commonly used in web development and data science applications."
   ]
  },
  {
   "cell_type": "markdown",
   "metadata": {},
   "source": [
    "### Functions"
   ]
  },
  {
   "attachments": {},
   "cell_type": "markdown",
   "metadata": {},
   "source": [
    "In Python, a function is a block of reusable code that performs a specific task. Functions can take input arguments and return output values.\n",
    "\n",
    "To define a function, you use the def keyword followed by the function name and its input parameters in parentheses. The function body is indented after a colon, and the return keyword is used to specify the function's output.\n",
    "\n",
    "Here's an example of a function that takes two input arguments and returns their sum:"
   ]
  },
  {
   "cell_type": "code",
   "execution_count": null,
   "metadata": {},
   "outputs": [],
   "source": [
    "def add_numbers(a, b):\n",
    "    return a + b"
   ]
  },
  {
   "attachments": {},
   "cell_type": "markdown",
   "metadata": {},
   "source": [
    "To use the function, you call it by its name and pass in the input arguments:"
   ]
  },
  {
   "cell_type": "code",
   "execution_count": null,
   "metadata": {},
   "outputs": [],
   "source": [
    "result = add_numbers(2, 3)\n",
    "print(result)"
   ]
  },
  {
   "attachments": {},
   "cell_type": "markdown",
   "metadata": {},
   "source": [
    "Functions are an important part of Python because they allow you to organize your code into reusable, modular pieces. Functions can be called from other functions, making it easier to build complex programs.\n",
    "\n",
    "Using functions also helps to improve code readability and maintainability, as the logic of the program can be separated into smaller, more manageable pieces. By using functions, you can avoid repeating the same code multiple times throughout your program, making your code more efficient and easier to debug"
   ]
  },
  {
   "attachments": {},
   "cell_type": "markdown",
   "metadata": {},
   "source": [
    "### <span style=\"color:red\">**TASK**</span>\n",
    "\n",
    "Write a function named `greet_user()` that takes a person's name as an argument and prints a personalized greeting to that person. The function should print a message like \"Hello, John! Welcome back.\" for a person with the name \"John\"."
   ]
  },
  {
   "cell_type": "code",
   "execution_count": null,
   "metadata": {},
   "outputs": [],
   "source": [
    "# Code goes here"
   ]
  },
  {
   "attachments": {},
   "cell_type": "markdown",
   "metadata": {},
   "source": [
    "### Relational operators\n",
    "\n",
    "| Symbol | Meaning |\n",
    "| ---- | --- |\n",
    "| == | True if they are equal |\n",
    "| ! = | True if they are not equal |\n",
    "| < | less than |\n",
    "| > | greater than |\n",
    "| <= | less than or equal to |\n",
    "| > = | greater than or equal to |"
   ]
  },
  {
   "cell_type": "code",
   "execution_count": null,
   "metadata": {},
   "outputs": [],
   "source": [
    "5 < 10"
   ]
  },
  {
   "cell_type": "code",
   "execution_count": null,
   "metadata": {},
   "outputs": [],
   "source": [
    "5 >= 10"
   ]
  },
  {
   "cell_type": "code",
   "execution_count": null,
   "metadata": {},
   "outputs": [],
   "source": [
    "z = 1"
   ]
  },
  {
   "cell_type": "code",
   "execution_count": null,
   "metadata": {},
   "outputs": [],
   "source": [
    "z"
   ]
  },
  {
   "cell_type": "code",
   "execution_count": null,
   "metadata": {},
   "outputs": [],
   "source": [
    "z == 1"
   ]
  },
  {
   "cell_type": "code",
   "execution_count": null,
   "metadata": {},
   "outputs": [],
   "source": [
    "z < 1"
   ]
  },
  {
   "cell_type": "code",
   "execution_count": null,
   "metadata": {},
   "outputs": [],
   "source": [
    "z != 0"
   ]
  },
  {
   "cell_type": "markdown",
   "metadata": {},
   "source": [
    "### Loops"
   ]
  },
  {
   "cell_type": "markdown",
   "metadata": {},
   "source": [
    "<div class=\"alert alert-block alert-warning\">\n",
    "📺 WATCH AT HOME\n",
    "<br>\n",
    "\n",
    "[Python Tutorial for Beginners 7: Loops and Iterations - For/While Loops](https://www.youtube.com/watch?v=6iF8Xb7Z3wQ)\n",
    "\n",
    "</div>"
   ]
  },
  {
   "cell_type": "markdown",
   "metadata": {},
   "source": [
    "```python\n",
    "for variable in something:\n",
    "    \n",
    "    algorithm\n",
    "```"
   ]
  },
  {
   "cell_type": "markdown",
   "metadata": {},
   "source": [
    "There are several ways to iterate over a list in Python:\n",
    "\n",
    "Using a for loop:"
   ]
  },
  {
   "cell_type": "code",
   "execution_count": null,
   "metadata": {},
   "outputs": [],
   "source": [
    "my_list = [1, 2, 3, 4, 5]\n",
    "for item in my_list:\n",
    "    print(item)"
   ]
  },
  {
   "cell_type": "markdown",
   "metadata": {},
   "source": [
    "Using a while loop and the list's length:"
   ]
  },
  {
   "cell_type": "code",
   "execution_count": null,
   "metadata": {},
   "outputs": [],
   "source": [
    "my_list = [1, 2, 3, 4, 5]\n",
    "i = 0\n",
    "while i < len(my_list):\n",
    "    print(my_list[i])\n",
    "    i += 1"
   ]
  },
  {
   "cell_type": "markdown",
   "metadata": {},
   "source": [
    "Using list comprehension:"
   ]
  },
  {
   "cell_type": "code",
   "execution_count": null,
   "metadata": {},
   "outputs": [],
   "source": [
    "my_list = [1, 2, 3, 4, 5]\n",
    "[print(item) for item in my_list]\n"
   ]
  },
  {
   "cell_type": "markdown",
   "metadata": {},
   "source": [
    "Using the built-in map() function:"
   ]
  },
  {
   "cell_type": "code",
   "execution_count": null,
   "metadata": {},
   "outputs": [],
   "source": [
    "my_list = [1, 2, 3, 4, 5]\n",
    "list(map(print, my_list))"
   ]
  },
  {
   "cell_type": "code",
   "execution_count": null,
   "metadata": {},
   "outputs": [
    {
     "name": "stdout",
     "output_type": "stream",
     "text": [
      "i = 0\n",
      "i = 1\n",
      "i = 2\n",
      "i = 3\n",
      "i = 4\n",
      "The final x = 5\n"
     ]
    }
   ],
   "source": [
    "x = 0\n",
    "\n",
    "for i in [0,1,2,3,4]:\n",
    "    print('i =', i)\n",
    "    x = x + 1    # or:  x =+ 1\n",
    "\n",
    "print('The final x =', x)"
   ]
  },
  {
   "cell_type": "code",
   "execution_count": null,
   "metadata": {},
   "outputs": [
    {
     "name": "stdout",
     "output_type": "stream",
     "text": [
      "i = 0\n",
      "i = 1\n",
      "i = 2\n",
      "i = 3\n",
      "i = 4\n",
      "The final x = 1\n"
     ]
    }
   ],
   "source": [
    "# BE CAREFUL where you put variables in your loops!\n",
    "\n",
    "for i in [0,1,2,3,4]:\n",
    "    x = 0    # I have moved this variable definition into the loop\n",
    "    print('i =', i)\n",
    "    x = x + 1    # or:  x =+ 1\n",
    "\n",
    "print('The final x =', x)"
   ]
  },
  {
   "cell_type": "markdown",
   "metadata": {},
   "source": [
    "```python\n",
    "while some_condition:\n",
    "    \n",
    "    algorithm\n",
    "```"
   ]
  },
  {
   "cell_type": "code",
   "execution_count": null,
   "metadata": {},
   "outputs": [],
   "source": [
    "i = 1\n",
    "while i < 3:\n",
    "    print(i ** 2)\n",
    "    i = i+1\n",
    "print('Bye')"
   ]
  },
  {
   "cell_type": "markdown",
   "metadata": {},
   "source": [
    "### Break"
   ]
  },
  {
   "cell_type": "markdown",
   "metadata": {},
   "source": [
    "As the name implies, it is used to break a loop when the condition becomes true during loop execution."
   ]
  },
  {
   "cell_type": "code",
   "execution_count": null,
   "metadata": {},
   "outputs": [],
   "source": [
    "for i in range(100):\n",
    "    if i>=7:\n",
    "        break\n",
    "    print(i)"
   ]
  },
  {
   "cell_type": "markdown",
   "metadata": {},
   "source": [
    "### Continue"
   ]
  },
  {
   "cell_type": "markdown",
   "metadata": {},
   "source": [
    "`continue` continues with the next iteration of the loop."
   ]
  },
  {
   "cell_type": "code",
   "execution_count": null,
   "metadata": {},
   "outputs": [],
   "source": [
    "for val in \"string\":\n",
    "    if val == \"i\":\n",
    "        continue\n",
    "    print(val)\n",
    "\n",
    "print(\"The end\")"
   ]
  },
  {
   "cell_type": "markdown",
   "metadata": {},
   "source": [
    "![logo](https://cdn.programiz.com/sites/tutorial2program/files/how-continue-statment-works.jpg)"
   ]
  },
  {
   "attachments": {},
   "cell_type": "markdown",
   "metadata": {},
   "source": [
    "### <span style=\"color:red\">**TASK**</span>\n",
    "\n",
    "Please write your own `while` loop that will print \"I don't understand\" text on the screen until you type \"Stop\"\n",
    "\n",
    "</div>"
   ]
  },
  {
   "cell_type": "code",
   "execution_count": null,
   "metadata": {},
   "outputs": [],
   "source": []
  },
  {
   "attachments": {},
   "cell_type": "markdown",
   "metadata": {},
   "source": [
    "### <span style=\"color:red\">**TASK**</span>\n",
    "\n",
    "\n",
    "Write a program that would count the number of even and odd numbers from the list of numbers: `1, 2, 3, 4, 5, 6, 7, 8, 9`.\n"
   ]
  },
  {
   "cell_type": "code",
   "execution_count": null,
   "metadata": {},
   "outputs": [],
   "source": []
  },
  {
   "cell_type": "markdown",
   "metadata": {},
   "source": [
    "### Conditionals"
   ]
  },
  {
   "attachments": {},
   "cell_type": "markdown",
   "metadata": {},
   "source": [
    "In Python, conditionals are used to execute different code blocks based on certain conditions. There are two main conditional statements in Python: if and else. The if statement is used to execute a block of code if a condition is true, while the else statement is used to execute a block of code if the condition is false.\n",
    "\n",
    "Here is an example of using an if statement to check if a number is greater than 10:"
   ]
  },
  {
   "cell_type": "code",
   "execution_count": null,
   "metadata": {},
   "outputs": [],
   "source": [
    "x = 15\n",
    "if x > 10:\n",
    "    print(\"x is greater than 10\")"
   ]
  },
  {
   "attachments": {},
   "cell_type": "markdown",
   "metadata": {},
   "source": [
    "In this example, the code inside the if block will only be executed if the value of x is greater than 10.\n",
    "\n",
    "You can also use the else statement to execute a block of code if the condition is false:"
   ]
  },
  {
   "cell_type": "code",
   "execution_count": null,
   "metadata": {},
   "outputs": [],
   "source": [
    "x = 5\n",
    "if x > 10:\n",
    "    print(\"x is greater than 10\")\n",
    "else:\n",
    "    print(\"x is less than or equal to 10\")"
   ]
  },
  {
   "attachments": {},
   "cell_type": "markdown",
   "metadata": {},
   "source": [
    "In this example, the code inside the else block will be executed because the value of x is less than or equal to 10.\n",
    "\n",
    "You can also use the elif statement to check multiple conditions:"
   ]
  },
  {
   "cell_type": "code",
   "execution_count": null,
   "metadata": {},
   "outputs": [],
   "source": [
    "x = 7\n",
    "if x > 10:\n",
    "    print(\"x is greater than 10\")\n",
    "elif x > 5:\n",
    "    print(\"x is between 5 and 10\")\n",
    "else:\n",
    "    print(\"x is less than or equal to 5\")\n"
   ]
  },
  {
   "attachments": {},
   "cell_type": "markdown",
   "metadata": {},
   "source": [
    "In this example, the first condition is false, so the code inside the elif block is executed because the value of x is between 5 and 10.\n",
    "\n",
    "Conditionals are an essential part of programming, as they allow you to create flexible and dynamic code that can respond to changing conditions. By using conditionals in Python, you can create powerful programs that can make decisions and take action based on the data they receive."
   ]
  },
  {
   "attachments": {},
   "cell_type": "markdown",
   "metadata": {},
   "source": [
    "### <span style=\"color:red\">**TASK**</span>\n",
    "\n",
    "Task: please write a simple \"chatbot\" that will greet you at the beginning, ask you for the name, and will answer the questions in the right way depending on what the user writes (think about what the user can say, you can try to force an answer, e.g. by forcing only two possible answers, like yes/no). Use the `input()` function. Write the whole code in one cell.\n",
    "\n",
    "</div>\n"
   ]
  },
  {
   "cell_type": "code",
   "execution_count": null,
   "metadata": {},
   "outputs": [],
   "source": [
    "#  Code goes here "
   ]
  },
  {
   "attachments": {},
   "cell_type": "markdown",
   "metadata": {},
   "source": [
    "### <span style=\"color:red\">**TASK & HOMEWORK**</span>\n",
    "\n",
    "**1. You have just finished eating at the restaurant and you received this bill:**\n",
    "\n",
    "The cost of the meal: USD 44.50\n",
    "\n",
    "Tax: 6.75%\n",
    "\n",
    "Tip: 15%\n",
    "\n",
    "Apply the tip amount to the total cost of the meal (including tax). First declare the variable named `meal` and assign it a value of 44.50.\n",
    "\n",
    "**2.\n",
    "Let's create a variable for the tax percentage.**\n",
    "\n",
    "The tax on your invoice is 6.75%. You will need to divide 6.75 by 100 to get a decimal percentage form.\n",
    "\n",
    "Create the variable `tax` and set it to a decimal value of 6.75%.\n",
    "\n",
    "**3.\n",
    "You've had good service, so you want to leave a 15% tip to cover the cost of a meal (including tax).**\n",
    "\n",
    "Before calculating the tip amount for the bill, let's set the variable for the tip percentage. We need to get the decimal form of the tip, so we divide 15.0 into 100.\n",
    "\n",
    "Save this value in a variable called `tip`.\n",
    "\n",
    "Perform calculations.\n",
    "\n",
    "**4.\n",
    "We have three variables needed to perform our calculations and we know mathematical operators who can help us.**\n",
    "\n",
    "At the beginning of the lesson, we saw that we could change the variable assignment. We could say:\n",
    "\n",
    "`cash_in_wallet = 7`\n",
    "change your mind later and assign:\n",
    "\n",
    "`cash_in_wallet = 0`\n",
    "Change the meal assignment to the value `meal + (meal * tax)`.\n",
    "\n",
    "We only calculate meal and tax costs here. We'll add a tip in the next step.\n",
    "\n",
    "**5.\n",
    "Now that `meal` has the cost of the meal plus tax, create a variable` total` which is equal to the portion `meal + meal * tip`**\n",
    "\n",
    "**6.\n",
    "Print the value of `total`.**\n",
    "\n",
    "Congratulations! You already know the value of your bill!"
   ]
  },
  {
   "cell_type": "code",
   "execution_count": null,
   "metadata": {},
   "outputs": [],
   "source": [
    "# Code goes here"
   ]
  },
  {
   "attachments": {},
   "cell_type": "markdown",
   "metadata": {},
   "source": [
    "Please program a short text game. Introduce the user to the situation briefly describing it on the screen, using `print()`, and then ask to choose the further path of the story `answer = input(\"Choose one of the options: A., B., C., ... \")`.\n",
    "\n",
    "Then, depending on the user's answer, determine what will happen next (using the `if-elif-elif...` and `print()` statements and functions)."
   ]
  },
  {
   "cell_type": "code",
   "execution_count": null,
   "metadata": {},
   "outputs": [],
   "source": [
    "# Code goes here"
   ]
  },
  {
   "attachments": {},
   "cell_type": "markdown",
   "metadata": {},
   "source": [
    "Write functions / procedures which, when called, will:\n",
    "1. write numbers from 1 to 100\n",
    "- write numbers from 8 to 50\n",
    "- write even numbers from 2 to 50\n",
    "- write numbers from 100 to 1"
   ]
  },
  {
   "cell_type": "code",
   "execution_count": null,
   "metadata": {},
   "outputs": [],
   "source": [
    "# Code goes here"
   ]
  }
 ],
 "metadata": {
  "kernelspec": {
   "display_name": "Python 3",
   "language": "python",
   "name": "python3"
  },
  "language_info": {
   "codemirror_mode": {
    "name": "ipython",
    "version": 3
   },
   "file_extension": ".py",
   "mimetype": "text/x-python",
   "name": "python",
   "nbconvert_exporter": "python",
   "pygments_lexer": "ipython3",
   "version": "3.10.8"
  },
  "orig_nbformat": 4,
  "vscode": {
   "interpreter": {
    "hash": "aee8b7b246df8f9039afb4144a1f6fd8d2ca17a180786b69acc140d282b71a49"
   }
  }
 },
 "nbformat": 4,
 "nbformat_minor": 2
}
